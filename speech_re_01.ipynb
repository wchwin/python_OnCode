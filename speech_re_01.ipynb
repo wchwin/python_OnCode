{
  "nbformat": 4,
  "nbformat_minor": 0,
  "metadata": {
    "colab": {
      "name": "speech_re_01.ipynb",
      "provenance": [],
      "collapsed_sections": [],
      "authorship_tag": "ABX9TyMzGNt7zwiRv5D0NYlxKPVr",
      "include_colab_link": true
    },
    "kernelspec": {
      "name": "python3",
      "display_name": "Python 3"
    }
  },
  "cells": [
    {
      "cell_type": "markdown",
      "metadata": {
        "id": "view-in-github",
        "colab_type": "text"
      },
      "source": [
        "<a href=\"https://colab.research.google.com/github/wchwin/python_OnCode/blob/master/speech_re_01.ipynb\" target=\"_parent\"><img src=\"https://colab.research.google.com/assets/colab-badge.svg\" alt=\"Open In Colab\"/></a>"
      ]
    },
    {
      "cell_type": "markdown",
      "metadata": {
        "id": "gk2a7TE6vrI0",
        "colab_type": "text"
      },
      "source": [
        "### 實作：練習語音輸入辨識功能"
      ]
    },
    {
      "cell_type": "code",
      "metadata": {
        "id": "FJV68wEKvphH",
        "colab_type": "code",
        "colab": {
          "base_uri": "https://localhost:8080/",
          "height": 35
        },
        "outputId": "12dc2680-79d8-477a-bae3-1b1dab578818"
      },
      "source": [
        "pip install SpeechRecognition"
      ],
      "execution_count": 10,
      "outputs": [
        {
          "output_type": "stream",
          "text": [
            "Requirement already satisfied: SpeechRecognition in /usr/local/lib/python3.6/dist-packages (3.8.1)\n"
          ],
          "name": "stdout"
        }
      ]
    },
    {
      "cell_type": "code",
      "metadata": {
        "id": "rhQi1mJrxfX_",
        "colab_type": "code",
        "colab": {}
      },
      "source": [
        "pip install PyAudio"
      ],
      "execution_count": 0,
      "outputs": []
    },
    {
      "cell_type": "code",
      "metadata": {
        "id": "MUxtlK5nxDoQ",
        "colab_type": "code",
        "colab": {}
      },
      "source": [
        "import speech_recognition as sr"
      ],
      "execution_count": 0,
      "outputs": []
    },
    {
      "cell_type": "code",
      "metadata": {
        "id": "8YzPOWzhxahN",
        "colab_type": "code",
        "colab": {}
      },
      "source": [
        "def Voice_To_Text():\n",
        "    r = sr.Recognizer()\n",
        "    with sr.Microphone() as source:    #使用麥克風輸入要先安裝PyAudio模組(但不須import)\n",
        "        r.pause_threshold = 1.8\n",
        "        r.adjust_for_ambient_noise(source)    # 函數調整麥克風的噪音:\n",
        "        print(\"請開始說話:\")                   # print 一個提示 提醒你可以講話了\n",
        "        audio = r.listen(source)\n",
        "\n",
        "    try:\n",
        "        print(\"語音輸入結束！語音辨識輸出中.....\")\n",
        "        Text = r.recognize_google(audio, language=\"zh-TW\")\n",
        "              ##將剛說的話轉成  zh-TW 繁體中文 的 字串\n",
        "              ## recognize_google 指得是使用 google 的api\n",
        "    except:\n",
        "        Text = \"無法翻譯\"\n",
        "\n",
        "    return Text"
      ],
      "execution_count": 0,
      "outputs": []
    },
    {
      "cell_type": "code",
      "metadata": {
        "id": "YNEu80y7xxiq",
        "colab_type": "code",
        "colab": {}
      },
      "source": [
        "print(Voice_To_Text())"
      ],
      "execution_count": 0,
      "outputs": []
    }
  ]
}