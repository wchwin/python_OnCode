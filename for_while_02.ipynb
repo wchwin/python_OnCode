{
  "nbformat": 4,
  "nbformat_minor": 0,
  "metadata": {
    "colab": {
      "name": "for_while_02.ipynb",
      "provenance": [],
      "collapsed_sections": [],
      "authorship_tag": "ABX9TyPJecyPKTb81MOForQtKs0k",
      "include_colab_link": true
    },
    "kernelspec": {
      "name": "python3",
      "display_name": "Python 3"
    }
  },
  "cells": [
    {
      "cell_type": "markdown",
      "metadata": {
        "id": "view-in-github",
        "colab_type": "text"
      },
      "source": [
        "<a href=\"https://colab.research.google.com/github/wchwin/python_OnCode/blob/master/for_while_02.ipynb\" target=\"_parent\"><img src=\"https://colab.research.google.com/assets/colab-badge.svg\" alt=\"Open In Colab\"/></a>"
      ]
    },
    {
      "cell_type": "markdown",
      "metadata": {
        "id": "l2FIWhOfRQde",
        "colab_type": "text"
      },
      "source": [
        "### 另一種超過10以上的數字金字塔(耶誕樹)處理方式"
      ]
    },
    {
      "cell_type": "code",
      "metadata": {
        "id": "WCIeAvdxRKqs",
        "colab_type": "code",
        "colab": {
          "base_uri": "https://localhost:8080/",
          "height": 347
        },
        "outputId": "940c31e4-a4e3-4dac-f311-d38fc8549ff6"
      },
      "source": [
        "raws = 19\n",
        "for s in range(1,raws+1):\n",
        "    num_str = \"\"\n",
        "    space_str = \"\"\n",
        "    sn = s\n",
        "    sd = -1\n",
        "    while sn < s+1:\n",
        "        if raws > 9:\n",
        "            if sn < 10:\n",
        "                num_str += \"*\"+str(sn)\n",
        "            else:\n",
        "                num_str += str(sn)\n",
        "        else:\n",
        "            num_str += str(sn)\n",
        "\n",
        "        if sn == 1:\n",
        "            sd = -sd\n",
        "        sn += sd\n",
        "\n",
        "    if raws < 10:\n",
        "        space_str = \" \"*(raws-s)\n",
        "    else:\n",
        "        space_str = \" \"*(raws-s)*2\n",
        "\n",
        "    print(space_str+num_str)"
      ],
      "execution_count": 7,
      "outputs": [
        {
          "output_type": "stream",
          "text": [
            "                                    *1\n",
            "                                  *2*1*2\n",
            "                                *3*2*1*2*3\n",
            "                              *4*3*2*1*2*3*4\n",
            "                            *5*4*3*2*1*2*3*4*5\n",
            "                          *6*5*4*3*2*1*2*3*4*5*6\n",
            "                        *7*6*5*4*3*2*1*2*3*4*5*6*7\n",
            "                      *8*7*6*5*4*3*2*1*2*3*4*5*6*7*8\n",
            "                    *9*8*7*6*5*4*3*2*1*2*3*4*5*6*7*8*9\n",
            "                  10*9*8*7*6*5*4*3*2*1*2*3*4*5*6*7*8*910\n",
            "                1110*9*8*7*6*5*4*3*2*1*2*3*4*5*6*7*8*91011\n",
            "              121110*9*8*7*6*5*4*3*2*1*2*3*4*5*6*7*8*9101112\n",
            "            13121110*9*8*7*6*5*4*3*2*1*2*3*4*5*6*7*8*910111213\n",
            "          1413121110*9*8*7*6*5*4*3*2*1*2*3*4*5*6*7*8*91011121314\n",
            "        151413121110*9*8*7*6*5*4*3*2*1*2*3*4*5*6*7*8*9101112131415\n",
            "      16151413121110*9*8*7*6*5*4*3*2*1*2*3*4*5*6*7*8*910111213141516\n",
            "    1716151413121110*9*8*7*6*5*4*3*2*1*2*3*4*5*6*7*8*91011121314151617\n",
            "  181716151413121110*9*8*7*6*5*4*3*2*1*2*3*4*5*6*7*8*9101112131415161718\n",
            "19181716151413121110*9*8*7*6*5*4*3*2*1*2*3*4*5*6*7*8*910111213141516171819\n"
          ],
          "name": "stdout"
        }
      ]
    }
  ]
}