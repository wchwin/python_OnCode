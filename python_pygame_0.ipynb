{
  "nbformat": 4,
  "nbformat_minor": 0,
  "metadata": {
    "colab": {
      "name": "python_pygame_0.ipynb",
      "provenance": [],
      "collapsed_sections": [],
      "authorship_tag": "ABX9TyPC6e8/jD1GgrIHgjtS5+pt",
      "include_colab_link": true
    },
    "kernelspec": {
      "name": "python3",
      "display_name": "Python 3"
    }
  },
  "cells": [
    {
      "cell_type": "markdown",
      "metadata": {
        "id": "view-in-github",
        "colab_type": "text"
      },
      "source": [
        "<a href=\"https://colab.research.google.com/github/wchwin/python_OnCode/blob/master/python_pygame_0.ipynb\" target=\"_parent\"><img src=\"https://colab.research.google.com/assets/colab-badge.svg\" alt=\"Open In Colab\"/></a>"
      ]
    },
    {
      "cell_type": "code",
      "metadata": {
        "id": "GP_k3juQHHyN",
        "colab_type": "code",
        "colab": {}
      },
      "source": [
        "import pygame\n",
        "pygame.init()\n",
        "size = width, height = 640, 480  # 設定視窗大小\n",
        "screen = pygame.display.set_mode(size)  # 顯示視窗\n",
        "#color = (255, 255, 255)  # 設定顏色\n",
        "color = (0, 0, 0)  # 設定顏色\n",
        "clock = pygame.time.Clock()  # 設定時鐘\n",
        "\n",
        "while True:  # 死迴圈確保視窗一直顯示\n",
        "    screen.fill(color)  # 填充顏色(設定為0，執不執行這行程式碼都一樣)\n",
        "    clock.tick(60)\n",
        "    for event in pygame.event.get():  # 遍歷所有事件\n",
        "        if event.type == pygame.QUIT:  # 如果單擊關閉視窗，則退出\n",
        "            sys.exit()\n",
        "    pygame.display.flip()  # 更新全部顯示\n",
        "pygame.quit()  "
      ],
      "execution_count": 0,
      "outputs": []
    }
  ]
}