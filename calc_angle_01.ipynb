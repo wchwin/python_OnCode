{
  "nbformat": 4,
  "nbformat_minor": 0,
  "metadata": {
    "colab": {
      "name": "calc_angle_01.ipynb",
      "provenance": [],
      "collapsed_sections": [],
      "authorship_tag": "ABX9TyMwH2tKxRv+sLJR25LJJKXB",
      "include_colab_link": true
    },
    "kernelspec": {
      "name": "python3",
      "display_name": "Python 3"
    }
  },
  "cells": [
    {
      "cell_type": "markdown",
      "metadata": {
        "id": "view-in-github",
        "colab_type": "text"
      },
      "source": [
        "<a href=\"https://colab.research.google.com/github/wchwin/python_OnCode/blob/master/calc_angle_01.ipynb\" target=\"_parent\"><img src=\"https://colab.research.google.com/assets/colab-badge.svg\" alt=\"Open In Colab\"/></a>"
      ]
    },
    {
      "cell_type": "markdown",
      "metadata": {
        "id": "eyFML6W2Ka9s",
        "colab_type": "text"
      },
      "source": [
        "## 示範如何由已知的二座標點求其夾角"
      ]
    },
    {
      "cell_type": "markdown",
      "metadata": {
        "id": "WOUfBlSJOHaB",
        "colab_type": "text"
      },
      "source": [
        "### 計算二點與水平線產生的夾角"
      ]
    },
    {
      "cell_type": "code",
      "metadata": {
        "id": "rE0C2U3JKPrs",
        "colab_type": "code",
        "colab": {}
      },
      "source": [
        "##https://blog.csdn.net/qq_36387683/article/details/98202800?utm_medium=distribute.pc_relevant.none-task-blog-BlogCommendFromMachineLearnPai2-1.nonecase&depth_1-utm_source=distribute.pc_relevant.none-task-blog-BlogCommendFromMachineLearnPai2-1.nonecase\n",
        "import math\n",
        "def calc_angle(x1, y1, x2, y2):   #計算二點之間的夾角\n",
        "  x = abs(x1 - x2)\n",
        "  y = abs(y1 - y2)\n",
        "  z = math.sqrt(x * x + y * y)\n",
        " \n",
        "  angle = round(math.asin(y / z) / math.pi * 180)\n",
        "  return angle"
      ],
      "execution_count": 3,
      "outputs": []
    },
    {
      "cell_type": "code",
      "metadata": {
        "id": "WCtpIcWWK2G6",
        "colab_type": "code",
        "colab": {
          "base_uri": "https://localhost:8080/",
          "height": 104
        },
        "outputId": "6da13948-4310-467f-c894-086dd03f1e8d"
      },
      "source": [
        "print(calc_angle(0,0,100,100))\n",
        "print(calc_angle(0,0,-100,-100))\n",
        "print(calc_angle(0,0,-100,100))\n",
        "print(calc_angle(0,0,100,-100))\n",
        "print(calc_angle(0,0,170,100))"
      ],
      "execution_count": 11,
      "outputs": [
        {
          "output_type": "stream",
          "text": [
            "45\n",
            "45\n",
            "45\n",
            "45\n",
            "30\n"
          ],
          "name": "stdout"
        }
      ]
    },
    {
      "cell_type": "markdown",
      "metadata": {
        "id": "u6hCuAPsOVuz",
        "colab_type": "text"
      },
      "source": [
        "### 二點相對於象限的方位角（與pygame的旋轉角度方向相反-此處為順時鐘計算、pygame角度算法為逆時鐘方向） "
      ]
    },
    {
      "cell_type": "code",
      "metadata": {
        "id": "a_QquDi6MT0M",
        "colab_type": "code",
        "colab": {}
      },
      "source": [
        "# 计算方位角函数\n",
        "##https://blog.csdn.net/JohinieLi/article/details/81041550\n",
        "def azimuthAngle( x1,  y1,  x2,  y2):\n",
        "    angle = 0.0;\n",
        "    dx = x2 - x1\n",
        "    dy = y2 - y1\n",
        "    if  x2 == x1:\n",
        "        angle = math.pi / 2.0\n",
        "        if  y2 == y1 :\n",
        "            angle = 0.0\n",
        "        elif y2 < y1 :\n",
        "            angle = 3.0 * math.pi / 2.0\n",
        "    elif x2 > x1 and y2 > y1:\n",
        "        angle = math.atan(dx / dy)\n",
        "    elif  x2 > x1 and  y2 < y1 :\n",
        "        angle = math.pi / 2 + math.atan(-dy / dx)\n",
        "    elif  x2 < x1 and y2 < y1 :\n",
        "        angle = math.pi + math.atan(dx / dy)\n",
        "    elif  x2 < x1 and y2 > y1 :\n",
        "        angle = 3.0 * math.pi / 2.0 + math.atan(dy / -dx)\n",
        "    return (angle * 180 / math.pi)"
      ],
      "execution_count": 12,
      "outputs": []
    },
    {
      "cell_type": "code",
      "metadata": {
        "id": "W-H_pyOwMa1G",
        "colab_type": "code",
        "colab": {
          "base_uri": "https://localhost:8080/",
          "height": 121
        },
        "outputId": "3512d171-f13d-4412-c6a2-a2d41162f559"
      },
      "source": [
        "print(azimuthAngle(0,0,100,100))\n",
        "print(azimuthAngle(0,0,-100,-100))\n",
        "print(azimuthAngle(0,0,-100,100))\n",
        "print(azimuthAngle(0,0,100,-100))\n",
        "print(azimuthAngle(0,0,174,100))\n",
        "print(azimuthAngle(0,0,-174,100)) #約300度（-60度)"
      ],
      "execution_count": 18,
      "outputs": [
        {
          "output_type": "stream",
          "text": [
            "45.0\n",
            "225.0\n",
            "315.0\n",
            "135.0\n",
            "60.113473059575966\n",
            "299.88652694042406\n"
          ],
          "name": "stdout"
        }
      ]
    },
    {
      "cell_type": "code",
      "metadata": {
        "id": "y3SI-ChXQUR6",
        "colab_type": "code",
        "colab": {}
      },
      "source": [
        "#計算方位角另一種方法（個人感覺比較容易懂）\n",
        "import math\n",
        "def calc_angle2(x1,y1,x2,y2): \n",
        "    angle=0\n",
        "    dy= y2-y1\n",
        "    dx= x2-x1\n",
        "    if dx==0 and dy>0:\n",
        "        angle = 0\n",
        "    if dx==0 and dy<0:\n",
        "        angle = 180\n",
        "    if dy==0 and dx>0:\n",
        "        angle = 90\n",
        "    if dy==0 and dx<0:\n",
        "        angle = 270\n",
        "    if dx>0 and dy>0:\n",
        "       angle = math.atan(dx/dy)*180/math.pi\n",
        "    elif dx<0 and dy>0:\n",
        "       angle = 360 + math.atan(dx/dy)*180/math.pi\n",
        "    elif dx<0 and dy<0:\n",
        "       angle = 180 + math.atan(dx/dy)*180/math.pi\n",
        "    elif dx>0 and dy<0:\n",
        "       angle = 180 + math.atan(dx/dy)*180/math.pi\n",
        "    return angle\n",
        "\n",
        "##原文链接：https://blog.csdn.net/crazy_scott/java/article/details/81781906"
      ],
      "execution_count": 20,
      "outputs": []
    },
    {
      "cell_type": "code",
      "metadata": {
        "id": "7zibmPGEQnkt",
        "colab_type": "code",
        "colab": {
          "base_uri": "https://localhost:8080/",
          "height": 121
        },
        "outputId": "e9905de5-d8c0-4a3d-9ebf-ba41071f378f"
      },
      "source": [
        "print(calc_angle2(0,0,100,100))\n",
        "print(calc_angle2(0,0,-100,-100))\n",
        "print(calc_angle2(0,0,-100,100))\n",
        "print(calc_angle2(0,0,100,-100))\n",
        "print(azimuthAngle(0,0,174,100))\n",
        "print(azimuthAngle(0,0,-174,100)) #約300度（-60度)"
      ],
      "execution_count": 22,
      "outputs": [
        {
          "output_type": "stream",
          "text": [
            "45.0\n",
            "225.0\n",
            "315.0\n",
            "135.0\n",
            "60.113473059575966\n",
            "299.88652694042406\n"
          ],
          "name": "stdout"
        }
      ]
    }
  ]
}