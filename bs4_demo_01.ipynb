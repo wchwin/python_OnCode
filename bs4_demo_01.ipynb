{
  "nbformat": 4,
  "nbformat_minor": 0,
  "metadata": {
    "colab": {
      "name": "bs4_demo_01.ipynb",
      "provenance": [],
      "collapsed_sections": [],
      "authorship_tag": "ABX9TyP+HKVhQ832rOeWAr+jUFuU",
      "include_colab_link": true
    },
    "kernelspec": {
      "name": "python3",
      "display_name": "Python 3"
    }
  },
  "cells": [
    {
      "cell_type": "markdown",
      "metadata": {
        "id": "view-in-github",
        "colab_type": "text"
      },
      "source": [
        "<a href=\"https://colab.research.google.com/github/wchwin/python_OnCode/blob/master/bs4_demo_01.ipynb\" target=\"_parent\"><img src=\"https://colab.research.google.com/assets/colab-badge.svg\" alt=\"Open In Colab\"/></a>"
      ]
    },
    {
      "cell_type": "markdown",
      "metadata": {
        "id": "e6stp9vstSPZ",
        "colab_type": "text"
      },
      "source": [
        "## 使用requests擷取網頁內容並使用bs4進行html內容解析"
      ]
    },
    {
      "cell_type": "code",
      "metadata": {
        "id": "3gdXyW8nykHB",
        "colab_type": "code",
        "colab": {}
      },
      "source": [
        "import requests\n",
        "from bs4 import BeautifulSoup\n",
        "\n",
        "req = requests.get(\"https://jwlin.github.io/py-scraping-analysis-book/ch1/connect.html\")\n",
        "soup = BeautifulSoup(req.text, \"html.parser\")\n",
        "print(soup.prettify())"
      ],
      "execution_count": 0,
      "outputs": []
    },
    {
      "cell_type": "code",
      "metadata": {
        "id": "BD5EUXc30tIU",
        "colab_type": "code",
        "outputId": "48fc84e0-d445-47bd-ec3e-0f80c702da7c",
        "colab": {
          "base_uri": "https://localhost:8080/",
          "height": 121
        }
      },
      "source": [
        "print(soup.find('title').text)\n",
        "print(soup.find('h1').text)\n",
        "print(soup.find('a').text)\n",
        "print(soup.find('a').get('href'))\n",
        "print(soup.find('p', class_='text-muted'))\n",
        "print(soup.find('p', class_='lead').text[0:16])"
      ],
      "execution_count": 0,
      "outputs": [
        {
          "output_type": "stream",
          "text": [
            "Pycone 松果城市\n",
            "歡迎來到 Pycone 松果城市！\n",
            "了解更多\n",
            "http://www.pycone.com/\n",
            "<p class=\"text-muted\">Pycone (c) 2017</p>\n",
            "Python是非常強的的程式語言\n"
          ],
          "name": "stdout"
        }
      ]
    }
  ]
}