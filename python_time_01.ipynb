{
  "nbformat": 4,
  "nbformat_minor": 0,
  "metadata": {
    "colab": {
      "name": "python_time_01.ipynb",
      "provenance": [],
      "authorship_tag": "ABX9TyN9TBqAD6c5FfS1xaxcr2wo",
      "include_colab_link": true
    },
    "kernelspec": {
      "name": "python3",
      "display_name": "Python 3"
    },
    "language_info": {
      "name": "python"
    }
  },
  "cells": [
    {
      "cell_type": "markdown",
      "metadata": {
        "id": "view-in-github",
        "colab_type": "text"
      },
      "source": [
        "<a href=\"https://colab.research.google.com/github/wchwin/python_OnCode/blob/master/python_time_01.ipynb\" target=\"_parent\"><img src=\"https://colab.research.google.com/assets/colab-badge.svg\" alt=\"Open In Colab\"/></a>"
      ]
    },
    {
      "cell_type": "markdown",
      "metadata": {
        "id": "WbVIAuJYa0pF"
      },
      "source": [
        "# python中用於儲存時間資料的方式有二種：Tick、TimeTuple"
      ]
    },
    {
      "cell_type": "code",
      "metadata": {
        "id": "SiwUceTFbffa"
      },
      "source": [
        "import time"
      ],
      "execution_count": 1,
      "outputs": []
    },
    {
      "cell_type": "code",
      "metadata": {
        "colab": {
          "base_uri": "https://localhost:8080/"
        },
        "id": "cNR893FFanBK",
        "outputId": "55f1072f-b225-44e1-e09c-0f04abeee98b"
      },
      "source": [
        "tick1 = time.time()\n",
        "print(tick1)  # 計算1970/01/01 0:00:00到目前經過的秒數\n",
        "print(time.ctime(tick1))"
      ],
      "execution_count": 2,
      "outputs": [
        {
          "output_type": "stream",
          "name": "stdout",
          "text": [
            "1631962617.7508197\n",
            "Sat Sep 18 10:56:57 2021\n"
          ]
        }
      ]
    },
    {
      "cell_type": "code",
      "metadata": {
        "colab": {
          "base_uri": "https://localhost:8080/"
        },
        "id": "tEPo9uzjGFvw",
        "outputId": "ec3454d8-ad7e-4e76-d538-1d491100159c"
      },
      "source": [
        "tick2 = time.localtime()\n",
        "print(tick2)\n",
        "print(time.mktime(tick2))\n",
        "print(time.ctime(time.mktime(tick2)))\n",
        "print(time.strftime(\"%Y/%m/%d %H:%M:%S\", tick2))"
      ],
      "execution_count": 3,
      "outputs": [
        {
          "output_type": "stream",
          "name": "stdout",
          "text": [
            "time.struct_time(tm_year=2021, tm_mon=9, tm_mday=18, tm_hour=10, tm_min=57, tm_sec=1, tm_wday=5, tm_yday=261, tm_isdst=0)\n",
            "1631962621.0\n",
            "Sat Sep 18 10:57:01 2021\n",
            "2021/09/18 10:57:01\n"
          ]
        }
      ]
    },
    {
      "cell_type": "markdown",
      "metadata": {
        "id": "xhutBcV_lppr"
      },
      "source": [
        "### timedelta(時間計算)用法： datetime.timedelta(days=0, seconds=0, microseconds=0, milliseconds=0, minutes=0, hours=0, weeks=0)"
      ]
    },
    {
      "cell_type": "code",
      "metadata": {
        "colab": {
          "base_uri": "https://localhost:8080/"
        },
        "id": "Jvqe-hL8jZIO",
        "outputId": "c2fabf05-01a4-43d6-9c17-4a31c457ed56"
      },
      "source": [
        "from datetime import datetime, timedelta\n",
        "d1 = datetime.now()\n",
        "print(d1)\n",
        "print(d1+timedelta(2))\n",
        "print(d1+timedelta(days=5, hours=10))\n",
        "print(f\"{d1.year}/{d1.month}/{d1.day} {d1.hour+8}:{d1.minute}:{d1.second}\")"
      ],
      "execution_count": 19,
      "outputs": [
        {
          "output_type": "stream",
          "name": "stdout",
          "text": [
            "2021-09-18 11:28:26.272862\n",
            "2021-09-20 11:28:26.272862\n",
            "2021-09-23 21:28:26.272862\n",
            "2021/9/18 19:28:26\n"
          ]
        }
      ]
    }
  ]
}