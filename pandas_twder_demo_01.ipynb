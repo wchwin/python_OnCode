{
  "nbformat": 4,
  "nbformat_minor": 0,
  "metadata": {
    "colab": {
      "name": "pandas_twder_demo_01.ipynb",
      "provenance": [],
      "authorship_tag": "ABX9TyP4WIVbd2wjk7p40VjhiQIg",
      "include_colab_link": true
    },
    "kernelspec": {
      "name": "python3",
      "display_name": "Python 3"
    }
  },
  "cells": [
    {
      "cell_type": "markdown",
      "metadata": {
        "id": "view-in-github",
        "colab_type": "text"
      },
      "source": [
        "<a href=\"https://colab.research.google.com/github/wchwin/python_OnCode/blob/master/pandas_twder_demo_01.ipynb\" target=\"_parent\"><img src=\"https://colab.research.google.com/assets/colab-badge.svg\" alt=\"Open In Colab\"/></a>"
      ]
    },
    {
      "cell_type": "code",
      "metadata": {
        "id": "quY1B0xZsutg",
        "colab_type": "code",
        "colab": {
          "base_uri": "https://localhost:8080/",
          "height": 102
        },
        "outputId": "8f87fbf9-a0b6-4f51-e3cb-97d3f3edb015"
      },
      "source": [
        "pip install pandas"
      ],
      "execution_count": 7,
      "outputs": [
        {
          "output_type": "stream",
          "text": [
            "Requirement already satisfied: pandas in /usr/local/lib/python3.6/dist-packages (1.0.3)\n",
            "Requirement already satisfied: numpy>=1.13.3 in /usr/local/lib/python3.6/dist-packages (from pandas) (1.18.4)\n",
            "Requirement already satisfied: python-dateutil>=2.6.1 in /usr/local/lib/python3.6/dist-packages (from pandas) (2.8.1)\n",
            "Requirement already satisfied: pytz>=2017.2 in /usr/local/lib/python3.6/dist-packages (from pandas) (2018.9)\n",
            "Requirement already satisfied: six>=1.5 in /usr/local/lib/python3.6/dist-packages (from python-dateutil>=2.6.1->pandas) (1.12.0)\n"
          ],
          "name": "stdout"
        }
      ]
    },
    {
      "cell_type": "code",
      "metadata": {
        "id": "lM2v-j8Srg0w",
        "colab_type": "code",
        "colab": {
          "base_uri": "https://localhost:8080/",
          "height": 374
        },
        "outputId": "e58b42c4-0fc2-4254-8fb1-3507a235d241"
      },
      "source": [
        "import pandas\n",
        "dfs = pandas.read_html('http://rate.bot.com.tw/xrt?Lang=zh-TW')\n",
        "currency = dfs[0]\n",
        "currency = currency.iloc[:,0:5]\n",
        "currency.columns = ['幣別','現金買入','現金賣出','即期買入','即期賣出']\n",
        "rows = currency['幣別'].str.extract('\\((\\w+)\\)')\n",
        "rows_i = rows[0]\n",
        "#currency['幣別'] = currency['幣別'].str.extract('\\((\\w+)\\)')   #幣別英文代號\n",
        "currency['幣別'] = currency['幣別'].str.extract('(\\w+)')    #幣別中文名稱\n",
        "currency.index = rows_i\n",
        "print(currency)"
      ],
      "execution_count": 26,
      "outputs": [
        {
          "output_type": "stream",
          "text": [
            "       幣別     現金買入     現金賣出    即期買入    即期賣出\n",
            "0                                          \n",
            "USD    美金   29.505   30.175  29.855  29.955\n",
            "HKD    港幣    3.701    3.905   3.827   3.887\n",
            "GBP    英鎊    35.84    37.96   36.84   37.26\n",
            "AUD    澳幣    19.71    20.49   19.98   20.21\n",
            "CAD  加拿大幣    21.28    22.19   21.67   21.89\n",
            "SGD  新加坡幣    20.66    21.57   21.15   21.33\n",
            "CHF  瑞士法郎    30.31    31.51   30.97   31.26\n",
            "JPY    日圓   0.2686   0.2814  0.2759  0.2799\n",
            "ZAR   南非幣        -        -   1.674   1.754\n",
            "SEK   瑞典幣      2.8     3.32    3.14    3.24\n",
            "NZD    紐元    18.17    19.02   18.55   18.75\n",
            "THB    泰幣   0.8141   1.0041  0.9265  0.9665\n",
            "PHP  菲國比索   0.5197   0.6527       -       -\n",
            "IDR   印尼幣  0.00173  0.00243       -       -\n",
            "EUR    歐元    32.48    33.82    33.1    33.5\n",
            "KRW    韓元  0.02261  0.02651       -       -\n",
            "VND   越南盾  0.00091  0.00141       -       -\n",
            "MYR   馬來幣    5.806    7.431       -       -\n",
            "CNY   人民幣    4.094    4.256   4.166   4.216\n"
          ],
          "name": "stdout"
        }
      ]
    },
    {
      "cell_type": "code",
      "metadata": {
        "id": "YZetK1z_ux1v",
        "colab_type": "code",
        "colab": {}
      },
      "source": [
        "#currency.to_excel('currency.xlsx')"
      ],
      "execution_count": 0,
      "outputs": []
    }
  ]
}