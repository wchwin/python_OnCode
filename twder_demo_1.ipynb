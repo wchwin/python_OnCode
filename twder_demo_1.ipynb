{
  "nbformat": 4,
  "nbformat_minor": 0,
  "metadata": {
    "colab": {
      "name": "twder_demo_1.ipynb",
      "provenance": [],
      "authorship_tag": "ABX9TyMKZriok6dSeKE0XmqSGCmw",
      "include_colab_link": true
    },
    "kernelspec": {
      "name": "python3",
      "display_name": "Python 3"
    }
  },
  "cells": [
    {
      "cell_type": "markdown",
      "metadata": {
        "id": "view-in-github",
        "colab_type": "text"
      },
      "source": [
        "<a href=\"https://colab.research.google.com/github/wchwin/python_OnCode/blob/master/twder_demo_1.ipynb\" target=\"_parent\"><img src=\"https://colab.research.google.com/assets/colab-badge.svg\" alt=\"Open In Colab\"/></a>"
      ]
    },
    {
      "cell_type": "markdown",
      "metadata": {
        "id": "UztAY4kNCINp",
        "colab_type": "text"
      },
      "source": [
        "安裝台灣銀行即時匯率查詢模組"
      ]
    },
    {
      "cell_type": "code",
      "metadata": {
        "id": "XqQEXwqZBv95",
        "colab_type": "code",
        "outputId": "78518390-3a47-41df-e057-78af0855f717",
        "colab": {
          "base_uri": "https://localhost:8080/",
          "height": 191
        }
      },
      "source": [
        "pip install twder"
      ],
      "execution_count": 0,
      "outputs": [
        {
          "output_type": "stream",
          "text": [
            "Collecting twder\n",
            "  Downloading https://files.pythonhosted.org/packages/79/44/9d25944c500732f10cde648b86be297449eb3d2c9608699f744e75d9361f/twder-0.1.4-py3-none-any.whl\n",
            "Requirement already satisfied: lxml in /usr/local/lib/python3.6/dist-packages (from twder) (4.2.6)\n",
            "Requirement already satisfied: requests in /usr/local/lib/python3.6/dist-packages (from twder) (2.23.0)\n",
            "Requirement already satisfied: urllib3!=1.25.0,!=1.25.1,<1.26,>=1.21.1 in /usr/local/lib/python3.6/dist-packages (from requests->twder) (1.24.3)\n",
            "Requirement already satisfied: idna<3,>=2.5 in /usr/local/lib/python3.6/dist-packages (from requests->twder) (2.9)\n",
            "Requirement already satisfied: chardet<4,>=3.0.2 in /usr/local/lib/python3.6/dist-packages (from requests->twder) (3.0.4)\n",
            "Requirement already satisfied: certifi>=2017.4.17 in /usr/local/lib/python3.6/dist-packages (from requests->twder) (2020.4.5.1)\n",
            "Installing collected packages: twder\n",
            "Successfully installed twder-0.1.4\n"
          ],
          "name": "stdout"
        }
      ]
    },
    {
      "cell_type": "code",
      "metadata": {
        "id": "1LKq3HrxCOsw",
        "colab_type": "code",
        "colab": {
          "base_uri": "https://localhost:8080/",
          "height": 347
        },
        "outputId": "7f60cf85-d553-45c9-de98-d3b15ebf80fc"
      },
      "source": [
        "import twder\n",
        "twder.currencies()"
      ],
      "execution_count": 18,
      "outputs": [
        {
          "output_type": "execute_result",
          "data": {
            "text/plain": [
              "['USD',\n",
              " 'HKD',\n",
              " 'GBP',\n",
              " 'AUD',\n",
              " 'CAD',\n",
              " 'SGD',\n",
              " 'CHF',\n",
              " 'JPY',\n",
              " 'ZAR',\n",
              " 'SEK',\n",
              " 'NZD',\n",
              " 'THB',\n",
              " 'PHP',\n",
              " 'IDR',\n",
              " 'EUR',\n",
              " 'KRW',\n",
              " 'VND',\n",
              " 'MYR',\n",
              " 'CNY']"
            ]
          },
          "metadata": {
            "tags": []
          },
          "execution_count": 18
        }
      ]
    },
    {
      "cell_type": "code",
      "metadata": {
        "id": "_DvDbzUzChP_",
        "colab_type": "code",
        "colab": {}
      },
      "source": [
        "n_derall = twder.now_all()"
      ],
      "execution_count": 0,
      "outputs": []
    },
    {
      "cell_type": "code",
      "metadata": {
        "id": "TPtRC9jrCrJO",
        "colab_type": "code",
        "colab": {}
      },
      "source": [
        "n_der = twder.now('CNY')"
      ],
      "execution_count": 0,
      "outputs": []
    },
    {
      "cell_type": "code",
      "metadata": {
        "id": "qSjhxNQfC2HU",
        "colab_type": "code",
        "outputId": "372dc848-bb04-4cb1-df5a-dc1c0b5daac1",
        "colab": {
          "base_uri": "https://localhost:8080/",
          "height": 121
        }
      },
      "source": [
        "n_title = [\"匯率資料：\\n資料擷取時間：\", \"現金買入：\", \"現金賣出：\", \"即期買入：\",\"即期賣出：\"]\n",
        "for n in range(len(n_der)):\n",
        "  show = n_title[n]+str(n_der[n])\n",
        "  print(show)"
      ],
      "execution_count": 35,
      "outputs": [
        {
          "output_type": "stream",
          "text": [
            "匯率資料：\n",
            "資料擷取時間：2020/05/29 16:03\n",
            "現金買入：4.092\n",
            "現金賣出：4.254\n",
            "即期買入：4.164\n",
            "即期賣出：4.214\n"
          ],
          "name": "stdout"
        }
      ]
    },
    {
      "cell_type": "code",
      "metadata": {
        "id": "bi3Ug7DeMBvi",
        "colab_type": "code",
        "colab": {
          "base_uri": "https://localhost:8080/",
          "height": 139
        },
        "outputId": "44c03d11-7164-4886-dbb7-68320de69b8d"
      },
      "source": [
        "print(n_derall['USD'])\n",
        "for n in range(len(n_derall['USD'])):\n",
        "  show = n_title[n]+str(n_derall['USD'][n])\n",
        "  print(show)"
      ],
      "execution_count": 36,
      "outputs": [
        {
          "output_type": "stream",
          "text": [
            "('2020/05/29 16:03', '29.62', '30.29', '29.97', '30.07')\n",
            "匯率資料：\n",
            "資料擷取時間：2020/05/29 16:03\n",
            "現金買入：29.62\n",
            "現金賣出：30.29\n",
            "即期買入：29.97\n",
            "即期賣出：30.07\n"
          ],
          "name": "stdout"
        }
      ]
    }
  ]
}