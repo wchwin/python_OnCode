{
  "nbformat": 4,
  "nbformat_minor": 0,
  "metadata": {
    "colab": {
      "name": "var_demo_1.ipynb",
      "provenance": [],
      "collapsed_sections": [],
      "authorship_tag": "ABX9TyOqTGEzUSjzebsXg68aALtn",
      "include_colab_link": true
    },
    "kernelspec": {
      "name": "python3",
      "display_name": "Python 3"
    }
  },
  "cells": [
    {
      "cell_type": "markdown",
      "metadata": {
        "id": "view-in-github",
        "colab_type": "text"
      },
      "source": [
        "<a href=\"https://colab.research.google.com/github/wchwin/python_OnCode/blob/master/var_demo_1.ipynb\" target=\"_parent\"><img src=\"https://colab.research.google.com/assets/colab-badge.svg\" alt=\"Open In Colab\"/></a>"
      ]
    },
    {
      "cell_type": "markdown",
      "metadata": {
        "id": "nluEYJs-Xady",
        "colab_type": "text"
      },
      "source": [
        "# 認識變數的基本操作"
      ]
    },
    {
      "cell_type": "markdown",
      "metadata": {
        "id": "QvDssU--YBsE",
        "colab_type": "text"
      },
      "source": [
        "## 認識各種變數型態"
      ]
    },
    {
      "cell_type": "code",
      "metadata": {
        "id": "UnDcdrPLXUwz",
        "colab_type": "code",
        "colab": {}
      },
      "source": [
        "s1 = \"python大叔\" #文字變數\n",
        "s2 = \"12345\"\n",
        "n1 = 12345  #整數變數\n",
        "n2 = 123.45 #float變數(浮點變數)\n",
        "b1 = True   #bool(布林值)"
      ],
      "execution_count": 0,
      "outputs": []
    },
    {
      "cell_type": "code",
      "metadata": {
        "id": "CEOF1Gh4ZEqY",
        "colab_type": "code",
        "colab": {
          "base_uri": "https://localhost:8080/",
          "height": 104
        },
        "outputId": "897045f5-6b2f-4988-93b1-48192b43d3c1"
      },
      "source": [
        "print(type(s1))   #查看變數型態\n",
        "print(type(s2))\n",
        "print(type(n1))\n",
        "print(type(n2))\n",
        "print(type(b1))"
      ],
      "execution_count": 11,
      "outputs": [
        {
          "output_type": "stream",
          "text": [
            "<class 'str'>\n",
            "<class 'str'>\n",
            "<class 'int'>\n",
            "<class 'float'>\n",
            "<class 'bool'>\n"
          ],
          "name": "stdout"
        }
      ]
    },
    {
      "cell_type": "markdown",
      "metadata": {
        "id": "s2ip5f-WaIiU",
        "colab_type": "text"
      },
      "source": [
        "### 變更變數型態及應用"
      ]
    },
    {
      "cell_type": "code",
      "metadata": {
        "id": "xOu-0DcVaPCV",
        "colab_type": "code",
        "colab": {
          "base_uri": "https://localhost:8080/",
          "height": 156
        },
        "outputId": "c4668b2e-f5fa-40fb-ab80-d4f701697e80"
      },
      "source": [
        "print(type(str(n1)))  #使用str可將數字、浮點數轉換為文字\n",
        "print(type(str(n2)))\n",
        "print(type(int(s2)))\n",
        "print(type(str(b1)))  #布林值也可轉換為單純的文字型態，但轉換過去就不具備bool的真偽辨別使用功能囉\n",
        "#print(type(int(s1))) \n",
        "#不是想變就能變~一般文字當然沒辦法變成數字\n",
        "#但數字、浮點數、布林值基本上都可以轉換為文字型態\n",
        "print(n1+n2)\n",
        "print(str(n1)+str(n2))\n",
        "print(int(n2))\n",
        "print(float(n1))"
      ],
      "execution_count": 16,
      "outputs": [
        {
          "output_type": "stream",
          "text": [
            "<class 'str'>\n",
            "<class 'str'>\n",
            "<class 'int'>\n",
            "<class 'str'>\n",
            "12468.45\n",
            "12345123.45\n",
            "123\n",
            "12345.0\n"
          ],
          "name": "stdout"
        }
      ]
    },
    {
      "cell_type": "code",
      "metadata": {
        "id": "Pq8SU1Xic_Lt",
        "colab_type": "code",
        "colab": {
          "base_uri": "https://localhost:8080/",
          "height": 139
        },
        "outputId": "15bf667b-f43b-4d44-894a-8c0a1dfd28aa"
      },
      "source": [
        "print(b1)\n",
        "#Python 認定為 False 的值：False, 0, None, '', [], (), {} ，其餘都是 True\n",
        "print(n1 < n2)\n",
        "print(5==5)\n",
        "print(12345=='12345')\n",
        "print(s2 == n1)\n",
        "print(int(s2) == n1)\n",
        "print(s2 == str(n1))"
      ],
      "execution_count": 32,
      "outputs": [
        {
          "output_type": "stream",
          "text": [
            "True\n",
            "False\n",
            "True\n",
            "False\n",
            "False\n",
            "True\n",
            "True\n"
          ],
          "name": "stdout"
        }
      ]
    },
    {
      "cell_type": "markdown",
      "metadata": {
        "id": "z3C8FWsxho19",
        "colab_type": "text"
      },
      "source": [
        "![alt text](https://lh3.googleusercontent.com/hRfXzZ0Q7AMDPBzuZgkxBIta_yPpMVePpWs_z8KSpTTIlsbzhdt_8DIZNLLZvGQXxRJNBkYNECgdBGxPBc4y0oy8dOFf6NB_vJIjnt6rJnyuTStX17MBqmcliQ2K0PUFk-X1_3cN6EuFqI-Qs-x_uOySLqaZc2Q-7RTiI2lnscasa8-lHBC6bFb3M1hpSOyarAY_51XfU18XgMcl7wgwZ5vmZPw0elxl2S2xvZDGd8VVhxQdshs6dl5JunbolGQCL2ECXol92xBhY3JBGKFCnMu8OU2lSSjZOJq_W6tgc0b-Mu0mhQOcCVQiIS0OGCFDJV4yR4wPOYeUoDFoRV0U-DgmBwUuYWij5v-uRhc2eHpIa-BaH17LAVyGTcWvYF0fYZF06rKiEEdkpWxsoIOj1jato41PQNJCWJ23oPCM2asXL591rAbm15i6PGvDEkaSwS3CwkqAEnS0BIj-cgIPKjwfQyR7VqcaroIYFdhPoueRHJd11hh539-PWVpO7Q3fqhjK1H4c_jjipR0kJA70_etyqKeHffdWdli3lJV7jBtw44W4bDKKZfLjdKAQwUt4XzWq9WXF-7AEYPn1aT6CD92xYFMOkOSFcMmH4p2nvHHls-qUn3Ag7-Kv3TDMpIihm03S8AcXbqtYXQ2sd4YDR_FC-tFHB6iE-ozX_ESK81s7SB1grar0TmgfjVhPsw=w637-h578-no?authuser=0)"
      ]
    }
  ]
}