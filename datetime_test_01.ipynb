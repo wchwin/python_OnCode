{
  "nbformat": 4,
  "nbformat_minor": 0,
  "metadata": {
    "colab": {
      "name": "datetime_test_01.ipynb",
      "provenance": [],
      "authorship_tag": "ABX9TyNHCXQY52Sb7M8/+7l5Lsnu",
      "include_colab_link": true
    },
    "kernelspec": {
      "name": "python3",
      "display_name": "Python 3"
    }
  },
  "cells": [
    {
      "cell_type": "markdown",
      "metadata": {
        "id": "view-in-github",
        "colab_type": "text"
      },
      "source": [
        "<a href=\"https://colab.research.google.com/github/wchwin/python_OnCode/blob/master/datetime_test_01.ipynb\" target=\"_parent\"><img src=\"https://colab.research.google.com/assets/colab-badge.svg\" alt=\"Open In Colab\"/></a>"
      ]
    },
    {
      "cell_type": "code",
      "metadata": {
        "id": "vOwW-wQo-z3-",
        "colab_type": "code",
        "colab": {
          "base_uri": "https://localhost:8080/",
          "height": 69
        },
        "outputId": "704028d6-29f2-45ce-836c-693dd0c58a3a"
      },
      "source": [
        "from datetime import datetime,timedelta\n",
        "s_date = datetime.now()\n",
        "print(str(s_date.year)+str(s_date.month))\n",
        "print(s_date.hour)\n",
        "print(s_date.strftime('%Y%m%d'))"
      ],
      "execution_count": 2,
      "outputs": [
        {
          "output_type": "stream",
          "text": [
            "20206\n",
            "6\n",
            "20200604\n"
          ],
          "name": "stdout"
        }
      ]
    },
    {
      "cell_type": "code",
      "metadata": {
        "id": "jsuHhXHuA7RR",
        "colab_type": "code",
        "colab": {
          "base_uri": "https://localhost:8080/",
          "height": 52
        },
        "outputId": "df31d6bf-c869-4f39-e30d-1cdddba7ebe4"
      },
      "source": [
        "import time\n",
        "time.strftime(\"%Y-%m-%d %H:%M:%S\", time.localtime())\n",
        "print(time.strftime(\"%H:%M:%S\", time.localtime()))\n",
        "print(time.strftime(\"%Y%m%d\", time.localtime()))"
      ],
      "execution_count": 4,
      "outputs": [
        {
          "output_type": "stream",
          "text": [
            "06:35:30\n",
            "20200604\n"
          ],
          "name": "stdout"
        }
      ]
    },
    {
      "cell_type": "code",
      "metadata": {
        "id": "Ol3qH0hpB_OW",
        "colab_type": "code",
        "colab": {
          "base_uri": "https://localhost:8080/",
          "height": 35
        },
        "outputId": "a9af16e3-7060-44d4-ebac-bc84763501fa"
      },
      "source": [
        "delta = timedelta(days=-1)\n",
        "yesterday_d = s_date + delta\n",
        "print(yesterday_d.strftime(\"%Y%m%d\"))"
      ],
      "execution_count": 26,
      "outputs": [
        {
          "output_type": "stream",
          "text": [
            "20200603\n"
          ],
          "name": "stdout"
        }
      ]
    }
  ]
}