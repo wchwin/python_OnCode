{
  "nbformat": 4,
  "nbformat_minor": 0,
  "metadata": {
    "colab": {
      "name": "socket_ip_01.ipynb",
      "provenance": [],
      "authorship_tag": "ABX9TyNT/RMBRj5bOG0NSrsyzcE3",
      "include_colab_link": true
    },
    "kernelspec": {
      "name": "python3",
      "display_name": "Python 3"
    }
  },
  "cells": [
    {
      "cell_type": "markdown",
      "metadata": {
        "id": "view-in-github",
        "colab_type": "text"
      },
      "source": [
        "<a href=\"https://colab.research.google.com/github/wchwin/python_OnCode/blob/master/socket_ip_01.ipynb\" target=\"_parent\"><img src=\"https://colab.research.google.com/assets/colab-badge.svg\" alt=\"Open In Colab\"/></a>"
      ]
    },
    {
      "cell_type": "code",
      "metadata": {
        "id": "yfZediyRj6aJ",
        "colab_type": "code",
        "colab": {
          "base_uri": "https://localhost:8080/",
          "height": 35
        },
        "outputId": "bb8bf586-ff03-4633-a614-65eff256a8b2"
      },
      "source": [
        "#獲取本機ip(本機ip有可能是虛擬ip位址)\n",
        "import socket\n",
        "s = socket.socket(socket.AF_INET, socket.SOCK_DGRAM)\n",
        "s.connect((\"8.8.8.8\", 80))\n",
        "print(s.getsockname()[0])\n",
        "s.close()"
      ],
      "execution_count": 10,
      "outputs": [
        {
          "output_type": "stream",
          "text": [
            "172.28.0.2\n"
          ],
          "name": "stdout"
        }
      ]
    },
    {
      "cell_type": "code",
      "metadata": {
        "id": "iTFqAINZo-AV",
        "colab_type": "code",
        "colab": {
          "base_uri": "https://localhost:8080/",
          "height": 35
        },
        "outputId": "3f80f077-230f-406d-827f-1ccf7710e250"
      },
      "source": [
        "#獲取本機對外ip(對外真實ip)\n",
        "from requests import get\n",
        "ip = get('https://api.ipify.org').text\n",
        "print(ip)"
      ],
      "execution_count": 9,
      "outputs": [
        {
          "output_type": "stream",
          "text": [
            "104.155.210.249\n"
          ],
          "name": "stdout"
        }
      ]
    }
  ]
}