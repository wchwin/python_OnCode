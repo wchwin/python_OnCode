{
  "nbformat": 4,
  "nbformat_minor": 0,
  "metadata": {
    "colab": {
      "name": "python_io_0.ipynb",
      "provenance": [],
      "collapsed_sections": [],
      "authorship_tag": "ABX9TyNtYYO5JN2KzRSXXl/UWlTE",
      "include_colab_link": true
    },
    "kernelspec": {
      "name": "python3",
      "display_name": "Python 3"
    }
  },
  "cells": [
    {
      "cell_type": "markdown",
      "metadata": {
        "id": "view-in-github",
        "colab_type": "text"
      },
      "source": [
        "<a href=\"https://colab.research.google.com/github/wchwin/python_OnCode/blob/master/python_io_0.ipynb\" target=\"_parent\"><img src=\"https://colab.research.google.com/assets/colab-badge.svg\" alt=\"Open In Colab\"/></a>"
      ]
    },
    {
      "cell_type": "markdown",
      "metadata": {
        "id": "OGJTIn4sHx9g",
        "colab_type": "text"
      },
      "source": [
        "本篇主要針對Python的基本輸出入操作功能進行介紹及練習"
      ]
    },
    {
      "cell_type": "code",
      "metadata": {
        "id": "KoEkQU9XHtQx",
        "colab_type": "code",
        "colab": {
          "base_uri": "https://localhost:8080/",
          "height": 35
        },
        "outputId": "29bee461-1aed-430b-8322-960ed0b2aa56"
      },
      "source": [
        "#認識最基本的輸出:print\n",
        "print(\"Hello Python World!\")"
      ],
      "execution_count": 2,
      "outputs": [
        {
          "output_type": "stream",
          "text": [
            "Hello Python World!\n"
          ],
          "name": "stdout"
        }
      ]
    },
    {
      "cell_type": "code",
      "metadata": {
        "id": "mXz17wN1OkXK",
        "colab_type": "code",
        "colab": {
          "base_uri": "https://localhost:8080/",
          "height": 69
        },
        "outputId": "5af2d4d7-e56a-45cb-fb6a-cdcf745c5431"
      },
      "source": [
        "#關於文字變數的一些輸出操作方式(可觀察一下有何不同)\n",
        "s = \"python大叔學習坊\"   #產生[文字]變數:s，並給予「設定值」\n",
        "print(\"歡迎進入\",s)\n",
        "print(\"歡迎進入\"+s)\n",
        "print(f\"歡迎進入{s}\")"
      ],
      "execution_count": 4,
      "outputs": [
        {
          "output_type": "stream",
          "text": [
            "歡迎進入 python大叔學習坊\n",
            "歡迎進入python大叔學習坊\n",
            "歡迎進入python大叔學習坊\n"
          ],
          "name": "stdout"
        }
      ]
    },
    {
      "cell_type": "code",
      "metadata": {
        "id": "DYW9qN_8Ine7",
        "colab_type": "code",
        "colab": {
          "base_uri": "https://localhost:8080/",
          "height": 52
        },
        "outputId": "884d37ba-4a35-4d60-caee-45c052b20f86"
      },
      "source": [
        "s = input(\"請輸入姓名:\")  #提供使用者輸入介面，並將輸入內容儲存於變數:s\n",
        "print(s)"
      ],
      "execution_count": 3,
      "outputs": [
        {
          "output_type": "stream",
          "text": [
            "請輸入姓名:Wan Chih-Hsiang\n",
            "Wan Chih-Hsiang\n"
          ],
          "name": "stdout"
        }
      ]
    }
  ]
}