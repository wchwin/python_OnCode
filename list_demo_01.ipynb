{
  "nbformat": 4,
  "nbformat_minor": 0,
  "metadata": {
    "colab": {
      "name": "list_demo_01.ipynb",
      "provenance": [],
      "collapsed_sections": [],
      "authorship_tag": "ABX9TyOd1CKM6Kak6wRq9winr4MU",
      "include_colab_link": true
    },
    "kernelspec": {
      "name": "python3",
      "display_name": "Python 3"
    }
  },
  "cells": [
    {
      "cell_type": "markdown",
      "metadata": {
        "id": "view-in-github",
        "colab_type": "text"
      },
      "source": [
        "<a href=\"https://colab.research.google.com/github/wchwin/python_OnCode/blob/master/list_demo_01.ipynb\" target=\"_parent\"><img src=\"https://colab.research.google.com/assets/colab-badge.svg\" alt=\"Open In Colab\"/></a>"
      ]
    },
    {
      "cell_type": "markdown",
      "metadata": {
        "id": "vo8VInYWVGPK",
        "colab_type": "text"
      },
      "source": [
        "### **認識列表(list)**"
      ]
    },
    {
      "cell_type": "code",
      "metadata": {
        "id": "rw0CeUJNU5GH",
        "colab_type": "code",
        "colab": {}
      },
      "source": [
        "code_lang = [\"Python\", \"GoLang\", \"Node.js\", \"PHP\"]\n",
        "print(code_lang)"
      ],
      "execution_count": 0,
      "outputs": []
    },
    {
      "cell_type": "code",
      "metadata": {
        "id": "xO4WucvyWJPf",
        "colab_type": "code",
        "colab": {}
      },
      "source": [
        "print(code_lang[0])\n",
        "print(code_lang[3])\n",
        "print(code_lang[-1])\n",
        "print(code_lang[-3])\n",
        "print(len(code_lang))"
      ],
      "execution_count": 0,
      "outputs": []
    },
    {
      "cell_type": "code",
      "metadata": {
        "id": "rh-hHC_pYVQR",
        "colab_type": "code",
        "colab": {}
      },
      "source": [
        "print(code_lang[1:3])\n",
        "print(code_lang[:3])\n",
        "print(code_lang[-3:])"
      ],
      "execution_count": 0,
      "outputs": []
    },
    {
      "cell_type": "code",
      "metadata": {
        "id": "-_kMYSAhW7GN",
        "colab_type": "code",
        "colab": {}
      },
      "source": [
        "for n in range(len(code_lang)):\n",
        "  print(code_lang[n])"
      ],
      "execution_count": 0,
      "outputs": []
    },
    {
      "cell_type": "code",
      "metadata": {
        "id": "YA5jgxGvWqMq",
        "colab_type": "code",
        "colab": {}
      },
      "source": [
        "for c in code_lang:\n",
        "  print(c)"
      ],
      "execution_count": 0,
      "outputs": []
    },
    {
      "cell_type": "code",
      "metadata": {
        "id": "wQn3NJAYaRDY",
        "colab_type": "code",
        "colab": {}
      },
      "source": [
        "import random\n",
        "cr = random.choice(code_lang)\n",
        "cr2 = random.choices(code_lang, k=3)\n",
        "crs = random.sample(code_lang, 3)\n",
        "print(cr)\n",
        "print(cr2)\n",
        "print(crs)"
      ],
      "execution_count": 0,
      "outputs": []
    }
  ]
}