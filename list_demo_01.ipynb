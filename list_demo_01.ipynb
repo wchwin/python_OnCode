{
  "nbformat": 4,
  "nbformat_minor": 0,
  "metadata": {
    "colab": {
      "name": "list_demo_01.ipynb",
      "provenance": [],
      "collapsed_sections": [],
      "authorship_tag": "ABX9TyOK9lkydl4cPa8dNvytryLo",
      "include_colab_link": true
    },
    "kernelspec": {
      "name": "python3",
      "display_name": "Python 3"
    }
  },
  "cells": [
    {
      "cell_type": "markdown",
      "metadata": {
        "id": "view-in-github",
        "colab_type": "text"
      },
      "source": [
        "<a href=\"https://colab.research.google.com/github/wchwin/python_OnCode/blob/master/list_demo_01.ipynb\" target=\"_parent\"><img src=\"https://colab.research.google.com/assets/colab-badge.svg\" alt=\"Open In Colab\"/></a>"
      ]
    },
    {
      "cell_type": "markdown",
      "metadata": {
        "id": "VJztmBuxnNRI",
        "colab_type": "text"
      },
      "source": [
        "# 關於python中list(列表)的一些操作練習"
      ]
    },
    {
      "cell_type": "markdown",
      "metadata": {
        "id": "_n3ElPAOosez",
        "colab_type": "text"
      },
      "source": [
        "## 認識一些list的基本特性"
      ]
    },
    {
      "cell_type": "code",
      "metadata": {
        "id": "blIkonBgmx2y",
        "colab_type": "code",
        "colab": {
          "base_uri": "https://localhost:8080/",
          "height": 121
        },
        "outputId": "65b84fd1-e766-46c1-cd06-6a1cca553119"
      },
      "source": [
        "w_list = [2, 5, 12, 9, 34, 12, 4, 16]\n",
        "print(len(w_list))\n",
        "print(max(w_list))\n",
        "ws_list = sorted(w_list)\n",
        "print(w_list[0:4])\n",
        "print(type(ws_list[0:4]))\n",
        "print(w_list[0::2])\n",
        "print(w_list[::1])"
      ],
      "execution_count": 34,
      "outputs": [
        {
          "output_type": "stream",
          "text": [
            "8\n",
            "34\n",
            "[2, 5, 12, 9]\n",
            "<class 'list'>\n",
            "[2, 12, 34, 4]\n",
            "[2, 5, 12, 9, 34, 12, 4, 16]\n"
          ],
          "name": "stdout"
        }
      ]
    },
    {
      "cell_type": "code",
      "metadata": {
        "id": "FZhjKf5Bo7Ig",
        "colab_type": "code",
        "colab": {}
      },
      "source": [
        "print(34 in w_list) #判斷某數是否在w_list中?\n",
        "print(26 in w_list)"
      ],
      "execution_count": 0,
      "outputs": []
    },
    {
      "cell_type": "code",
      "metadata": {
        "id": "FXXi6IYHqOYO",
        "colab_type": "code",
        "colab": {}
      },
      "source": [
        "wn_list = w_list + [3, 8]\n",
        "print(wn_list)\n",
        "\n",
        "wa_list = w_list*2\n",
        "print(wa_list)"
      ],
      "execution_count": 0,
      "outputs": []
    },
    {
      "cell_type": "markdown",
      "metadata": {
        "id": "9zVUuAZutuBR",
        "colab_type": "text"
      },
      "source": [
        "## 示範一些關於list的元素操作"
      ]
    },
    {
      "cell_type": "code",
      "metadata": {
        "id": "SM0sJ95otqlj",
        "colab_type": "code",
        "colab": {
          "base_uri": "https://localhost:8080/",
          "height": 139
        },
        "outputId": "7229d35a-bc65-4c93-88a7-8dbef945b8d4"
      },
      "source": [
        "e_list = [1,2,3,4,5]\n",
        "e_list.append([6,7])\n",
        "ea_list = e_list+[6,7,8]\n",
        "print(ea_list)\n",
        "e_list.insert(2,7)\n",
        "#e_list.insert(-2,8)\n",
        "e_list.insert(len(e_list),9)\n",
        "print(e_list)\n",
        "#print(e_list[2])\n",
        "\n",
        "e_list.pop()  #移除list中最後一個元素\n",
        "print(e_list)\n",
        "e_list.pop(1) #移除list中指定序列的元素(序列1的元素)\n",
        "print(e_list)\n",
        "e_list.remove(5)  #移除list中指定的元素(移除5)\n",
        "print(e_list)\n",
        "e_list.remove([6,7])\n",
        "print(e_list)\n",
        "print(e_list.index(7)) #找出指定的元素(7)在list中的序列"
      ],
      "execution_count": 64,
      "outputs": [
        {
          "output_type": "stream",
          "text": [
            "[1, 2, 3, 4, 5, [6, 7], 6, 7, 8]\n",
            "[1, 2, 7, 3, 4, 5, [6, 7], 9]\n",
            "[1, 2, 7, 3, 4, 5, [6, 7]]\n",
            "[1, 7, 3, 4, 5, [6, 7]]\n",
            "[1, 7, 3, 4, [6, 7]]\n",
            "[1, 7, 3, 4]\n",
            "1\n"
          ],
          "name": "stdout"
        }
      ]
    },
    {
      "cell_type": "code",
      "metadata": {
        "id": "ScPpoHDb3oyS",
        "colab_type": "code",
        "colab": {
          "base_uri": "https://localhost:8080/",
          "height": 104
        },
        "outputId": "c02c78d6-c491-46e1-954d-e191951e51f0"
      },
      "source": [
        "a = [1, 2, 3, 4, 5]\n",
        "a.extend([1, 2, 3])\n",
        "print(a)\n",
        "a.extend([5])\n",
        "print(a)\n",
        "b = a.copy()\n",
        "print(b)\n",
        "print(b.count(3)) #計算指定元素(3)在list中的個數\n",
        "b.clear() #清空指定的list(b)\n",
        "print(b)"
      ],
      "execution_count": 68,
      "outputs": [
        {
          "output_type": "stream",
          "text": [
            "[1, 2, 3, 4, 5, 1, 2, 3]\n",
            "[1, 2, 3, 4, 5, 1, 2, 3, 5]\n",
            "[1, 2, 3, 4, 5, 1, 2, 3, 5]\n",
            "2\n",
            "[]\n"
          ],
          "name": "stdout"
        }
      ]
    },
    {
      "cell_type": "code",
      "metadata": {
        "id": "h51mKOwj6ULr",
        "colab_type": "code",
        "colab": {
          "base_uri": "https://localhost:8080/",
          "height": 52
        },
        "outputId": "bd9600c2-4a3c-46c2-ab0c-b0cb916edddf"
      },
      "source": [
        "st = \"大叔學python\"\n",
        "print(st[0:3])\n",
        "print(list(st))"
      ],
      "execution_count": 73,
      "outputs": [
        {
          "output_type": "stream",
          "text": [
            "大叔學\n",
            "['大', '叔', '學', 'p', 'y', 't', 'h', 'o', 'n']\n"
          ],
          "name": "stdout"
        }
      ]
    },
    {
      "cell_type": "code",
      "metadata": {
        "id": "jkzlbmb8s9dI",
        "colab_type": "code",
        "colab": {
          "base_uri": "https://localhost:8080/",
          "height": 52
        },
        "outputId": "c959effc-1f94-4aa0-80ad-cd582c94da7c"
      },
      "source": [
        "ww_list = []\n",
        "print(w_list)\n",
        "for i in w_list:  #將w_list中每個元素*2，放入ww_list中\n",
        "  ww_list.append(i*2)\n",
        "\n",
        "print(ww_list)"
      ],
      "execution_count": 47,
      "outputs": [
        {
          "output_type": "stream",
          "text": [
            "[2, 5, 12, 9, 34, 12, 4, 16]\n",
            "[4, 10, 24, 18, 68, 24, 8, 32]\n"
          ],
          "name": "stdout"
        }
      ]
    },
    {
      "cell_type": "code",
      "metadata": {
        "id": "Q_AA6LGPsX6e",
        "colab_type": "code",
        "colab": {
          "base_uri": "https://localhost:8080/",
          "height": 191
        },
        "outputId": "cbdc0a3b-4112-40fb-8c68-dad0fefc39a6"
      },
      "source": [
        "import pandas as pd\n",
        "s = pd.Series(w_list)\n",
        "print(s*2)\n",
        "print((s*2).tolist())"
      ],
      "execution_count": 16,
      "outputs": [
        {
          "output_type": "stream",
          "text": [
            "0     4\n",
            "1    10\n",
            "2    24\n",
            "3    18\n",
            "4    68\n",
            "5    24\n",
            "6     8\n",
            "7    32\n",
            "dtype: int64\n",
            "[4, 10, 24, 18, 68, 24, 8, 32]\n"
          ],
          "name": "stdout"
        }
      ]
    }
  ]
}