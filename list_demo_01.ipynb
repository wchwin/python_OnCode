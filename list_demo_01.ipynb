{
  "nbformat": 4,
  "nbformat_minor": 0,
  "metadata": {
    "colab": {
      "name": "list_demo_01.ipynb",
      "provenance": [],
      "collapsed_sections": [],
      "authorship_tag": "ABX9TyNcA/Ia+/XukMHiE6omB6JC",
      "include_colab_link": true
    },
    "kernelspec": {
      "name": "python3",
      "display_name": "Python 3"
    }
  },
  "cells": [
    {
      "cell_type": "markdown",
      "metadata": {
        "id": "view-in-github",
        "colab_type": "text"
      },
      "source": [
        "<a href=\"https://colab.research.google.com/github/wchwin/python_OnCode/blob/master/list_demo_01.ipynb\" target=\"_parent\"><img src=\"https://colab.research.google.com/assets/colab-badge.svg\" alt=\"Open In Colab\"/></a>"
      ]
    },
    {
      "cell_type": "markdown",
      "metadata": {
        "id": "vo8VInYWVGPK",
        "colab_type": "text"
      },
      "source": [
        "### **認識列表(list)**"
      ]
    },
    {
      "cell_type": "code",
      "metadata": {
        "id": "rw0CeUJNU5GH",
        "colab_type": "code",
        "colab": {}
      },
      "source": [
        "code_lang = [\"Python\", \"GoLang\", \"Node.js\", \"PHP\"]\n",
        "print(code_lang)"
      ],
      "execution_count": 0,
      "outputs": []
    },
    {
      "cell_type": "markdown",
      "metadata": {
        "id": "awnwwRLufhbd",
        "colab_type": "text"
      },
      "source": [
        "認識一下所謂的列表元素順序"
      ]
    },
    {
      "cell_type": "code",
      "metadata": {
        "id": "xO4WucvyWJPf",
        "colab_type": "code",
        "colab": {}
      },
      "source": [
        "print(code_lang[0])\n",
        "print(code_lang[3])\n",
        "print(code_lang[-1])\n",
        "print(code_lang[-3])\n",
        "print(len(code_lang))"
      ],
      "execution_count": 0,
      "outputs": []
    },
    {
      "cell_type": "markdown",
      "metadata": {
        "id": "vGIQOctKgxbq",
        "colab_type": "text"
      },
      "source": [
        "↑思考一下：len(code_lang)的意義？可以如何應用？\n",
        "len(obj)~~甚麼是obj？？\n",
        "看看下面這個例子....."
      ]
    },
    {
      "cell_type": "code",
      "metadata": {
        "id": "nooe7Wcuhjn9",
        "colab_type": "code",
        "colab": {
          "base_uri": "https://localhost:8080/",
          "height": 69
        },
        "outputId": "2e41ea55-b3d1-4bfc-eb6a-ceba89378977"
      },
      "source": [
        "str1 = \"Hello pyhton!\"\n",
        "print(len(str1))\n",
        "print(str1[4])\n",
        "print(str1[:10])"
      ],
      "execution_count": 54,
      "outputs": [
        {
          "output_type": "stream",
          "text": [
            "13\n",
            "o\n",
            "Hello pyht\n"
          ],
          "name": "stdout"
        }
      ]
    },
    {
      "cell_type": "markdown",
      "metadata": {
        "id": "CdsXuZUnkMyQ",
        "colab_type": "text"
      },
      "source": [
        "玩玩文字串"
      ]
    },
    {
      "cell_type": "code",
      "metadata": {
        "id": "5e40PW_KjJp5",
        "colab_type": "code",
        "colab": {
          "base_uri": "https://localhost:8080/",
          "height": 243
        },
        "outputId": "143f7b0c-123c-41b6-e387-bcb520dd9c2c"
      },
      "source": [
        "str2 = \"Hello python\"\n",
        "for ss in range(len(str2)+1):\n",
        "  print(str2[:ss])"
      ],
      "execution_count": 57,
      "outputs": [
        {
          "output_type": "stream",
          "text": [
            "\n",
            "H\n",
            "He\n",
            "Hel\n",
            "Hell\n",
            "Hello\n",
            "Hello \n",
            "Hello p\n",
            "Hello py\n",
            "Hello pyt\n",
            "Hello pyth\n",
            "Hello pytho\n",
            "Hello python\n"
          ],
          "name": "stdout"
        }
      ]
    },
    {
      "cell_type": "markdown",
      "metadata": {
        "id": "Kmw9cgY0fv7Q",
        "colab_type": "text"
      },
      "source": [
        "列表輸出的一些進階操作"
      ]
    },
    {
      "cell_type": "code",
      "metadata": {
        "id": "rh-hHC_pYVQR",
        "colab_type": "code",
        "colab": {}
      },
      "source": [
        "print(code_lang[1:3])\n",
        "print(code_lang[:3])\n",
        "print(code_lang[-3:])"
      ],
      "execution_count": 0,
      "outputs": []
    },
    {
      "cell_type": "code",
      "metadata": {
        "id": "-_kMYSAhW7GN",
        "colab_type": "code",
        "colab": {}
      },
      "source": [
        "for n in range(len(code_lang)):\n",
        "  print(code_lang[n])"
      ],
      "execution_count": 0,
      "outputs": []
    },
    {
      "cell_type": "code",
      "metadata": {
        "id": "YA5jgxGvWqMq",
        "colab_type": "code",
        "colab": {}
      },
      "source": [
        "for c in code_lang:\n",
        "  print(c)"
      ],
      "execution_count": 0,
      "outputs": []
    },
    {
      "cell_type": "markdown",
      "metadata": {
        "id": "nx63-kJLf4Qp",
        "colab_type": "text"
      },
      "source": [
        "如何從列表中隨機抽出元素"
      ]
    },
    {
      "cell_type": "code",
      "metadata": {
        "id": "wQn3NJAYaRDY",
        "colab_type": "code",
        "outputId": "6a22a3bb-d2ae-4c52-8fc5-b1f1cd5db067",
        "colab": {
          "base_uri": "https://localhost:8080/",
          "height": 69
        }
      },
      "source": [
        "import random\n",
        "cr = random.choice(code_lang)\n",
        "cr2 = random.choices(code_lang, k=3)\n",
        "crs = random.sample(code_lang, 3)\n",
        "print(cr)\n",
        "print(cr2)\n",
        "print(crs)"
      ],
      "execution_count": 48,
      "outputs": [
        {
          "output_type": "stream",
          "text": [
            "PHP\n",
            "['Node.js', 'PHP', 'Node.js']\n",
            "['Python', 'GoLang', 'Node.js']\n"
          ],
          "name": "stdout"
        }
      ]
    },
    {
      "cell_type": "code",
      "metadata": {
        "id": "jGWLXsNQgBvZ",
        "colab_type": "code",
        "colab": {
          "base_uri": "https://localhost:8080/",
          "height": 35
        },
        "outputId": "735b9b4c-ba09-4570-fa64-9e1d7f6a687e"
      },
      "source": [
        "sr = random.randrange(len(code_lang))\n",
        "print(code_lang[sr])"
      ],
      "execution_count": 47,
      "outputs": [
        {
          "output_type": "stream",
          "text": [
            "PHP\n"
          ],
          "name": "stdout"
        }
      ]
    }
  ]
}