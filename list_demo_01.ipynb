{
  "nbformat": 4,
  "nbformat_minor": 0,
  "metadata": {
    "colab": {
      "name": "list_demo_01.ipynb",
      "provenance": [],
      "collapsed_sections": [],
      "authorship_tag": "ABX9TyOhrPf/6JfSdoVLwUw1mItv",
      "include_colab_link": true
    },
    "kernelspec": {
      "name": "python3",
      "display_name": "Python 3"
    }
  },
  "cells": [
    {
      "cell_type": "markdown",
      "metadata": {
        "id": "view-in-github",
        "colab_type": "text"
      },
      "source": [
        "<a href=\"https://colab.research.google.com/github/wchwin/python_OnCode/blob/master/list_demo_01.ipynb\" target=\"_parent\"><img src=\"https://colab.research.google.com/assets/colab-badge.svg\" alt=\"Open In Colab\"/></a>"
      ]
    },
    {
      "cell_type": "markdown",
      "metadata": {
        "id": "vo8VInYWVGPK",
        "colab_type": "text"
      },
      "source": [
        "### **認識列表(list)**"
      ]
    },
    {
      "cell_type": "code",
      "metadata": {
        "id": "rw0CeUJNU5GH",
        "colab_type": "code",
        "colab": {
          "base_uri": "https://localhost:8080/",
          "height": 35
        },
        "outputId": "08145c4e-114f-4998-f2e1-fc7181e3e8b4"
      },
      "source": [
        "code_lang = [\"Python\", \"GoLang\", \"Node.js\", \"PHP\"]\n",
        "print(code_lang)"
      ],
      "execution_count": 3,
      "outputs": [
        {
          "output_type": "stream",
          "text": [
            "['Python', 'GoLang', 'Node.js', 'PHP']\n"
          ],
          "name": "stdout"
        }
      ]
    },
    {
      "cell_type": "code",
      "metadata": {
        "id": "xO4WucvyWJPf",
        "colab_type": "code",
        "colab": {
          "base_uri": "https://localhost:8080/",
          "height": 69
        },
        "outputId": "b04533d5-a6d8-4c0a-d6e2-0c1b706fa56a"
      },
      "source": [
        "print(code_lang[0])\n",
        "print(code_lang[-1])\n",
        "print(len(code_lang))"
      ],
      "execution_count": 6,
      "outputs": [
        {
          "output_type": "stream",
          "text": [
            "Python\n",
            "PHP\n",
            "4\n"
          ],
          "name": "stdout"
        }
      ]
    },
    {
      "cell_type": "code",
      "metadata": {
        "id": "-_kMYSAhW7GN",
        "colab_type": "code",
        "colab": {
          "base_uri": "https://localhost:8080/",
          "height": 87
        },
        "outputId": "ffd9f86b-2a77-496f-9fe3-a92bdd1dc305"
      },
      "source": [
        "for n in range(len(code_lang)):\n",
        "  print(code_lang[n])"
      ],
      "execution_count": 8,
      "outputs": [
        {
          "output_type": "stream",
          "text": [
            "Python\n",
            "GoLang\n",
            "Node.js\n",
            "PHP\n"
          ],
          "name": "stdout"
        }
      ]
    },
    {
      "cell_type": "code",
      "metadata": {
        "id": "YA5jgxGvWqMq",
        "colab_type": "code",
        "colab": {
          "base_uri": "https://localhost:8080/",
          "height": 87
        },
        "outputId": "2a38470f-1d54-4d3d-cbaf-9e2c326f1cab"
      },
      "source": [
        "for c in code_lang:\n",
        "  print(c)"
      ],
      "execution_count": 7,
      "outputs": [
        {
          "output_type": "stream",
          "text": [
            "Python\n",
            "GoLang\n",
            "Node.js\n",
            "PHP\n"
          ],
          "name": "stdout"
        }
      ]
    }
  ]
}