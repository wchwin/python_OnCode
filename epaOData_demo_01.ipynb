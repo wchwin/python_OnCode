{
  "nbformat": 4,
  "nbformat_minor": 0,
  "metadata": {
    "colab": {
      "name": "epaOData_demo_01.ipynb",
      "provenance": [],
      "collapsed_sections": [],
      "authorship_tag": "ABX9TyM9BSuTBjB9pT5fhGkD71bJ",
      "include_colab_link": true
    },
    "kernelspec": {
      "name": "python3",
      "display_name": "Python 3"
    }
  },
  "cells": [
    {
      "cell_type": "markdown",
      "metadata": {
        "id": "view-in-github",
        "colab_type": "text"
      },
      "source": [
        "<a href=\"https://colab.research.google.com/github/wchwin/python_OnCode/blob/master/epaOData_demo_01.ipynb\" target=\"_parent\"><img src=\"https://colab.research.google.com/assets/colab-badge.svg\" alt=\"Open In Colab\"/></a>"
      ]
    },
    {
      "cell_type": "markdown",
      "metadata": {
        "id": "b1Uz6EFM8UOD",
        "colab_type": "text"
      },
      "source": [
        "## 示範如何擷取環保署空氣品質指標數據(json)進行處理"
      ]
    },
    {
      "cell_type": "code",
      "metadata": {
        "id": "ia8SBRk78Mul",
        "colab_type": "code",
        "colab": {}
      },
      "source": [
        "import requests, json\n",
        "\n",
        "r = requests.get('http://opendata.epa.gov.tw/webapi/Data/REWIQA/?$orderby=SiteName&$skip=0&$top=1000&format=json')\n",
        "data_list = json.loads(r.text)"
      ],
      "execution_count": 2,
      "outputs": []
    },
    {
      "cell_type": "code",
      "metadata": {
        "id": "CGzjouS89Hfv",
        "colab_type": "code",
        "colab": {
          "base_uri": "https://localhost:8080/",
          "height": 72
        },
        "outputId": "048cd8f3-fe89-4efe-a026-5d54a57770cc"
      },
      "source": [
        "print(f\"共有{len(data_list)}筆監測站數據組！\")\n",
        "print(f\"呈現第一筆數劇組資料：{data_list[0]}\")"
      ],
      "execution_count": 4,
      "outputs": [
        {
          "output_type": "stream",
          "text": [
            "共有81筆監測站數據組！\n",
            "呈現第一筆數劇組資料：{'SiteName': '二林', 'County': '彰化縣', 'AQI': '25', 'Pollutant': '', 'Status': '良好', 'SO2': '3.5', 'CO': '0.13', 'CO_8hr': '0.1', 'O3': '7.2', 'O3_8hr': '17', 'PM10': '29', 'PM2.5': '13', 'NO2': '8.1', 'NOx': '8.5', 'NO': '0.4', 'WindSpeed': '1.4', 'WindDirec': '179', 'PublishTime': '2020-06-19 22:00', 'PM2.5_AVG': '8', 'PM10_AVG': '19', 'SO2_AVG': '4', 'Longitude': '120.409653', 'Latitude': '23.925175', 'SiteId': '35'}\n"
          ],
          "name": "stdout"
        }
      ]
    },
    {
      "cell_type": "code",
      "metadata": {
        "id": "WyfMNcnf93OC",
        "colab_type": "code",
        "colab": {
          "base_uri": "https://localhost:8080/",
          "height": 1000
        },
        "outputId": "63451fa0-82fd-40bd-b511-cd8b06b0d757"
      },
      "source": [
        "ntpc = 0  #做為資料中屬於新北市的計數值\n",
        "for i in range(len(data_list)):  #遍歷獲取的所有監測站數據的字典檔\n",
        "  if data_list[i]['County'] == '新北市': #只擷取呈現新北市的監測站資料\n",
        "    ntpc += 1\n",
        "    print(f\"資料獲取時間：{data_list[i]['PublishTime']}\")\n",
        "    print(data_list[i]['SiteName'],\"：空氣品質「\",data_list[i]['Status'],\"」\")\n",
        "    print(\"「PM2.5指數」：\",data_list[i]['PM2.5'], \"  「PM10指數」：\", data_list[i]['PM10'])\n",
        "    print(f\"整體空氣品質指數：{data_list[i]['AQI']}  主要汙染物質：{data_list[i]['Pollutant']}\")\n",
        "    print(\"==\"*15)\n",
        "print(f\"共有{ntpc}筆新北市的觀測資料！\")"
      ],
      "execution_count": 6,
      "outputs": [
        {
          "output_type": "stream",
          "text": [
            "資料獲取時間：2020-06-19 22:00\n",
            "三重 ：空氣品質「 良好 」\n",
            "「PM2.5指數」： 12   「PM10指數」： 25\n",
            "整體空氣品質指數：47  主要汙染物質：\n",
            "==============================\n",
            "資料獲取時間：2020-06-19 22:00\n",
            "土城 ：空氣品質「 良好 」\n",
            "「PM2.5指數」： 11   「PM10指數」： 27\n",
            "整體空氣品質指數：36  主要汙染物質：\n",
            "==============================\n",
            "資料獲取時間：2020-06-19 22:00\n",
            "永和 ：空氣品質「 良好 」\n",
            "「PM2.5指數」： 11   「PM10指數」： 21\n",
            "整體空氣品質指數：34  主要汙染物質：\n",
            "==============================\n",
            "資料獲取時間：2020-06-19 22:00\n",
            "汐止 ：空氣品質「 良好 」\n",
            "「PM2.5指數」： 16   「PM10指數」： 26\n",
            "整體空氣品質指數：44  主要汙染物質：\n",
            "==============================\n",
            "資料獲取時間：2020-06-19 22:00\n",
            "板橋 ：空氣品質「 良好 」\n",
            "「PM2.5指數」： 10   「PM10指數」： 28\n",
            "整體空氣品質指數：31  主要汙染物質：\n",
            "==============================\n",
            "資料獲取時間：2020-06-19 22:00\n",
            "林口 ：空氣品質「 良好 」\n",
            "「PM2.5指數」： 7   「PM10指數」： 21\n",
            "整體空氣品質指數：25  主要汙染物質：\n",
            "==============================\n",
            "資料獲取時間：2020-06-19 22:00\n",
            "淡水 ：空氣品質「 良好 」\n",
            "「PM2.5指數」： 11   「PM10指數」： 16\n",
            "整體空氣品質指數：26  主要汙染物質：\n",
            "==============================\n",
            "資料獲取時間：2020-06-19 22:00\n",
            "富貴角 ：空氣品質「 良好 」\n",
            "「PM2.5指數」： 10   「PM10指數」： 17\n",
            "整體空氣品質指數：31  主要汙染物質：\n",
            "==============================\n",
            "資料獲取時間：2020-06-19 22:00\n",
            "菜寮 ：空氣品質「 良好 」\n",
            "「PM2.5指數」： 11   「PM10指數」： 21\n",
            "整體空氣品質指數：33  主要汙染物質：\n",
            "==============================\n",
            "資料獲取時間：2020-06-19 22:00\n",
            "新店 ：空氣品質「 良好 」\n",
            "「PM2.5指數」： 10   「PM10指數」： 20\n",
            "整體空氣品質指數：43  主要汙染物質：\n",
            "==============================\n",
            "資料獲取時間：2020-06-19 22:00\n",
            "新莊 ：空氣品質「 良好 」\n",
            "「PM2.5指數」： 13   「PM10指數」： 33\n",
            "整體空氣品質指數：30  主要汙染物質：\n",
            "==============================\n",
            "資料獲取時間：2020-06-19 22:00\n",
            "萬里 ：空氣品質「 良好 」\n",
            "「PM2.5指數」： 13   「PM10指數」： 17\n",
            "整體空氣品質指數：40  主要汙染物質：\n",
            "==============================\n",
            "共有12筆新北市的觀測資料！\n"
          ],
          "name": "stdout"
        }
      ]
    }
  ]
}