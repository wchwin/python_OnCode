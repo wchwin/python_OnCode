{
  "nbformat": 4,
  "nbformat_minor": 0,
  "metadata": {
    "colab": {
      "name": "for_print02.ipynb",
      "provenance": [],
      "authorship_tag": "ABX9TyPWVykIxJS7tHqGBDxwR1D6",
      "include_colab_link": true
    },
    "kernelspec": {
      "name": "python3",
      "display_name": "Python 3"
    }
  },
  "cells": [
    {
      "cell_type": "markdown",
      "metadata": {
        "id": "view-in-github",
        "colab_type": "text"
      },
      "source": [
        "<a href=\"https://colab.research.google.com/github/wchwin/python_OnCode/blob/master/for_print02.ipynb\" target=\"_parent\"><img src=\"https://colab.research.google.com/assets/colab-badge.svg\" alt=\"Open In Colab\"/></a>"
      ]
    },
    {
      "cell_type": "markdown",
      "metadata": {
        "id": "wtaDjs6QMZM_",
        "colab_type": "text"
      },
      "source": [
        "使用for及while功能建立一個數字型耶誕樹"
      ]
    },
    {
      "cell_type": "code",
      "metadata": {
        "id": "GvGlIxmMMQr4",
        "colab_type": "code",
        "colab": {
          "base_uri": "https://localhost:8080/",
          "height": 136
        },
        "outputId": "151e76a3-1e2d-4fd5-d14e-2547645c20bc"
      },
      "source": [
        "raws = 7\n",
        "for s in range(1,raws+1):\n",
        "    num_str = \"\"\n",
        "    sn = s\n",
        "    sd = -1\n",
        "    while sn < s+1:\n",
        "        num_str += str(sn)\n",
        "        if sn == 1:\n",
        "            sd = -sd\n",
        "        sn += sd\n",
        "\n",
        "    print(\" \"*(raws-s)+num_str+\" \"*(raws-s))"
      ],
      "execution_count": 3,
      "outputs": [
        {
          "output_type": "stream",
          "text": [
            "      1      \n",
            "     212     \n",
            "    32123    \n",
            "   4321234   \n",
            "  543212345  \n",
            " 65432123456 \n",
            "7654321234567\n"
          ],
          "name": "stdout"
        }
      ]
    }
  ]
}