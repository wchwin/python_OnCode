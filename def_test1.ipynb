{
  "nbformat": 4,
  "nbformat_minor": 0,
  "metadata": {
    "colab": {
      "name": "def-test1.ipynb",
      "provenance": [],
      "include_colab_link": true
    },
    "kernelspec": {
      "name": "python3",
      "display_name": "Python 3"
    }
  },
  "cells": [
    {
      "cell_type": "markdown",
      "metadata": {
        "id": "view-in-github",
        "colab_type": "text"
      },
      "source": [
        "<a href=\"https://colab.research.google.com/github/wchwin/python_OnCode/blob/master/def_test1.ipynb\" target=\"_parent\"><img src=\"https://colab.research.google.com/assets/colab-badge.svg\" alt=\"Open In Colab\"/></a>"
      ]
    },
    {
      "cell_type": "code",
      "metadata": {
        "id": "rg7DjxyKaXJ9",
        "colab_type": "code",
        "outputId": "27d89067-f8e0-4e4d-a107-44b1b429ad11",
        "colab": {
          "base_uri": "https://localhost:8080/",
          "height": 35
        }
      },
      "source": [
        "def num_add(num1,num2):\n",
        "  print(num1+num2)\n",
        "\n",
        "num_add(99,100)"
      ],
      "execution_count": 0,
      "outputs": [
        {
          "output_type": "stream",
          "text": [
            "199\n"
          ],
          "name": "stdout"
        }
      ]
    },
    {
      "cell_type": "code",
      "metadata": {
        "id": "SSte1UVXbEaI",
        "colab_type": "code",
        "outputId": "0024e477-961a-4ad1-d935-c01dd7d70239",
        "colab": {
          "base_uri": "https://localhost:8080/",
          "height": 69
        }
      },
      "source": [
        "def p_list(a_list):\n",
        "  for li in a_list:\n",
        "    print(li)\n",
        "\n",
        "li = ['python', 'go', 'php']\n",
        "p_list(li)"
      ],
      "execution_count": 0,
      "outputs": [
        {
          "output_type": "stream",
          "text": [
            "python\n",
            "go\n",
            "php\n"
          ],
          "name": "stdout"
        }
      ]
    }
  ]
}