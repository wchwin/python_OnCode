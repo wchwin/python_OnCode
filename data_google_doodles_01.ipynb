{
  "nbformat": 4,
  "nbformat_minor": 0,
  "metadata": {
    "colab": {
      "name": "data_google_doodles_01.ipynb",
      "provenance": [],
      "collapsed_sections": [],
      "authorship_tag": "ABX9TyMOTngKgW27OMMNFbnQ6c3w",
      "include_colab_link": true
    },
    "kernelspec": {
      "name": "python3",
      "display_name": "Python 3"
    }
  },
  "cells": [
    {
      "cell_type": "markdown",
      "metadata": {
        "id": "view-in-github",
        "colab_type": "text"
      },
      "source": [
        "<a href=\"https://colab.research.google.com/github/wchwin/python_OnCode/blob/master/data_google_doodles_01.ipynb\" target=\"_parent\"><img src=\"https://colab.research.google.com/assets/colab-badge.svg\" alt=\"Open In Colab\"/></a>"
      ]
    },
    {
      "cell_type": "markdown",
      "metadata": {
        "id": "bXRtlPJPThxD",
        "colab_type": "text"
      },
      "source": [
        "### 練習資料擷取一：擷取google Doodles資料"
      ]
    },
    {
      "cell_type": "code",
      "metadata": {
        "id": "hh0n-lP8TbSs",
        "colab_type": "code",
        "colab": {}
      },
      "source": [
        "from urllib.request import urlopen\n",
        "import ssl, json\n",
        "\n",
        "#ssl._create_default_https_context = ssl._create_default_https_context"
      ],
      "execution_count": 0,
      "outputs": []
    },
    {
      "cell_type": "code",
      "metadata": {
        "id": "v4H0q8CzWESX",
        "colab_type": "code",
        "colab": {}
      },
      "source": [
        "response = urlopen(\"https://www.google.com/doodles/json/2020/4?hl=zh_TW\")  #2020/4為選擇擷取的 年/月 資料\n",
        "doodies = json.load(response)\n",
        "#print(doodies)"
      ],
      "execution_count": 0,
      "outputs": []
    },
    {
      "cell_type": "code",
      "metadata": {
        "id": "uXeGja9yWJNT",
        "colab_type": "code",
        "colab": {
          "base_uri": "https://localhost:8080/",
          "height": 988
        },
        "outputId": "a3b23f54-7605-46ab-fb47-decafe51e729"
      },
      "source": [
        "for d in doodies:\n",
        "    url = \"https:\" + d[\"url\"]\n",
        "    title = d[\"title\"]\n",
        "    title = title.replace(\" \", \"\").replace(\"/\", \"-\") #去除標題中的空白字元，並將/符號置換為-\n",
        "    print(\"圖片標題：\", title)\n",
        "    print(\"圖片網址：\", url)"
      ],
      "execution_count": 7,
      "outputs": [
        {
          "output_type": "stream",
          "text": [
            "圖片標題： 回味歷來大受歡迎的GoogleDoodle作品，在家度過遊戲時光：洛克摩爾的特雷門琴彈奏遊戲(2016)\n",
            "圖片網址： https://www.google.com/logos/doodles/2020/stay-and-play-at-home-with-popular-past-google-doodles-rockmore-2016-6753651837108769-law.gif\n",
            "圖片標題： 2020年以色列獨立紀念日\n",
            "圖片網址： https://www.google.com/logos/doodles/2020/israel-independence-day-2020-6753651837108367-law.gif\n",
            "圖片標題： 回味歷來大受歡迎的GoogleDoodle作品，在家度過遊戲時光：費辛格的視覺譜曲遊戲(2017)\n",
            "圖片網址： https://www.google.com/logos/doodles/2020/stay-and-play-at-home-with-popular-past-google-doodles-fischinger-2017-6753651837108768-law.gif\n",
            "圖片標題： 回味歷來大受歡迎的GoogleDoodle作品，在家度過遊戲時光：板球遊戲(2017)\n",
            "圖片網址： https://www.google.com/logos/doodles/2020/stay-and-play-at-home-with-popular-past-google-doodles-cricket-2017-6753651837108767-law.gif\n",
            "圖片標題： 2020年國王日(荷蘭)\n",
            "圖片網址： https://www.google.com/logos/doodles/2020/kings-day-2020-netherlands-6753651837108364-law.gif\n",
            "圖片標題： 回味歷來大受歡迎的GoogleDoodle作品，在家度過遊戲時光：程式設計遊戲(2017)\n",
            "圖片網址： https://www.google.com/logos/doodles/2020/stay-and-play-at-home-with-popular-past-google-doodles-coding-2017-6753651837108765-law.gif\n",
            "圖片標題： 感謝所有為對抗COVID-19付出的貢獻者(4月25、26日)\n",
            "圖片網址： https://www.google.com/logos/doodles/2020/thank-you-coronavirus-helpers-april-25-26-6753651837108777-law.gif\n",
            "圖片標題： 2020年聖喬治節\n",
            "圖片網址： https://www.google.com/logos/doodles/2020/st-georges-day-2020-6753651837108359.2-law.gif\n",
            "圖片標題： 2020年國家主權暨兒童節(土耳其)\n",
            "圖片網址： https://www.google.com/logos/doodles/2020/national-sovereignty-and-childrens-day-2020-turkey-6753651837108358.2-l.png\n",
            "圖片標題： 2020年世界地球日\n",
            "圖片網址： https://www.google.com/logos/doodles/2020/earth-day-2020-6753651837108357.3-l.png\n",
            "圖片標題： 感謝所有為對抗COVID-19付出的貢獻者\n",
            "圖片網址： https://www.google.com/logos/doodles/2020/thank-you-coronavirus-helpers-6753651837108764.4-law.gif\n",
            "圖片標題： 感謝所有老師和托育工作者\n",
            "圖片網址： https://www.google.com/logos/doodles/2020/thank-you-teachers-and-childcare-workers-6753651837108762.3-law.gif\n",
            "圖片標題： 感謝所有餐飲業工作者\n",
            "圖片網址： https://www.google.com/logos/doodles/2020/thank-you-food-service-workers-6753651837108761-law.gif\n",
            "圖片標題： 2020年南韓大選日\n",
            "圖片網址： https://www.google.com/logos/doodles/2020/south-korea-national-election-day-2020-6753651837108352-l.png\n",
            "圖片標題： 感謝所有物流包裝人員\n",
            "圖片網址： https://www.google.com/logos/doodles/2020/thank-you-packaging-shipping-and-delivery-workers-6753651837108760.3-law.gif\n",
            "圖片標題： 感謝所有大眾運輸從業人員\n",
            "圖片網址： https://www.google.com/logos/doodles/2020/thank-you-public-transportation-workers-6753651837108759-law.gif\n",
            "圖片標題： 感謝所有零售業工作者\n",
            "圖片網址： https://www.google.com/logos/doodles/2020/thank-you-grocery-workers-6753651837108758.2-law.gif\n",
            "圖片標題： 感謝所有農民和農場工作者\n",
            "圖片網址： https://www.google.com/logos/doodles/2020/thank-you-farmworkers-and-farmers-6753651837108757.2-law.gif\n",
            "圖片標題： 感謝所有衛生清潔人員\n",
            "圖片網址： https://www.google.com/logos/doodles/2020/thank-you-custodial-and-sanitation-workers-6753651837108756-law.gif\n",
            "圖片標題： 感謝所有緊急救援服務人員\n",
            "圖片網址： https://www.google.com/logos/doodles/2020/thank-you-emergency-services-workers-6753651837108755-law.gif\n",
            "圖片標題： 2020年母親節(亞美尼亞)\n",
            "圖片網址： https://www.google.com/logos/doodles/2020/mothers-day-2020-armenia-6753651837108341-l.png\n",
            "圖片標題： 感謝所有有醫生、護士和醫療人員\n",
            "圖片網址： https://www.google.com/logos/doodles/2020/thank-you-doctors-nurses-and-medical-workers-6753651837108754.4-law.gif\n",
            "圖片標題： 感謝所有公衛人員和科學研究人員\n",
            "圖片網址： https://www.google.com/logos/doodles/2020/thank-you-public-health-workers-and-to-researchers-in-the-scientific-community-6753651837108753-law.gif\n",
            "圖片標題： 2020年塞內加爾獨立紀念日\n",
            "圖片網址： https://www.google.com/logos/doodles/2020/senegal-independence-day-2020-6753651837108339-law.gif\n",
            "圖片標題： 紀念海希姆汗\n",
            "圖片網址： https://www.google.com/logos/doodles/2020/celebrating-hashim-khan-6753651837108340.2-law.gif\n",
            "圖片標題： 待在家拯救生命\n",
            "圖片網址： https://www.google.com/logos/doodles/2020/stay-home-save-lives-6753651837108752-law.gif\n",
            "圖片標題： 洛拉阿爾瓦雷斯布拉沃117歲冥誕\n",
            "圖片網址： https://www.google.com/logos/doodles/2020/lola-alvarez-bravos-117th-birthday-6753651837108337.2-l.png\n",
            "圖片標題： 珍麥克納馬拉夫人121歲冥誕\n",
            "圖片網址： https://www.google.com/logos/doodles/2020/dame-jean-macnamaras-121st-birthday-6753651837108336.4-l.png\n"
          ],
          "name": "stdout"
        }
      ]
    }
  ]
}