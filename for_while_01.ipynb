{
  "nbformat": 4,
  "nbformat_minor": 0,
  "metadata": {
    "colab": {
      "name": "for_while_01.ipynb",
      "provenance": [],
      "collapsed_sections": [],
      "authorship_tag": "ABX9TyPJT9nWCGVuasgGXVQGczWF",
      "include_colab_link": true
    },
    "kernelspec": {
      "name": "python3",
      "display_name": "Python 3"
    }
  },
  "cells": [
    {
      "cell_type": "markdown",
      "metadata": {
        "id": "view-in-github",
        "colab_type": "text"
      },
      "source": [
        "<a href=\"https://colab.research.google.com/github/wchwin/python_OnCode/blob/master/for_while_01.ipynb\" target=\"_parent\"><img src=\"https://colab.research.google.com/assets/colab-badge.svg\" alt=\"Open In Colab\"/></a>"
      ]
    },
    {
      "cell_type": "markdown",
      "metadata": {
        "id": "xJz08md5PqlQ",
        "colab_type": "text"
      },
      "source": [
        "###**將原本的數字金字塔(9階以後會歪掉)的問題加以解決！幾階都可以正確排列**"
      ]
    },
    {
      "cell_type": "code",
      "metadata": {
        "id": "GlHa-fbNPcEU",
        "colab_type": "code",
        "colab": {
          "base_uri": "https://localhost:8080/",
          "height": 312
        },
        "outputId": "8d5696dd-c9fa-4317-bd3b-4b5f3ad047e0"
      },
      "source": [
        "raws = 17\n",
        "for s in range(1,raws+1):\n",
        "    num_str = \"\"\n",
        "    space_str = \"\"\n",
        "    sn = s\n",
        "    sd = -1\n",
        "    while sn < s+1:\n",
        "        num_str += str(sn)\n",
        "        if sn == 1:\n",
        "            sd = -sd\n",
        "        sn += sd\n",
        "\n",
        "    if s < 10:\n",
        "        space_str = \" \"*(raws-s) + \" \"*(raws-9)\n",
        "    else:\n",
        "        space_str = \" \"*(raws-s)*2\n",
        "\n",
        "    print(space_str+num_str)"
      ],
      "execution_count": 1,
      "outputs": [
        {
          "output_type": "stream",
          "text": [
            "                        1\n",
            "                       212\n",
            "                      32123\n",
            "                     4321234\n",
            "                    543212345\n",
            "                   65432123456\n",
            "                  7654321234567\n",
            "                 876543212345678\n",
            "                98765432123456789\n",
            "              109876543212345678910\n",
            "            1110987654321234567891011\n",
            "          12111098765432123456789101112\n",
            "        131211109876543212345678910111213\n",
            "      1413121110987654321234567891011121314\n",
            "    15141312111098765432123456789101112131415\n",
            "  161514131211109876543212345678910111213141516\n",
            "1716151413121110987654321234567891011121314151617\n"
          ],
          "name": "stdout"
        }
      ]
    }
  ]
}