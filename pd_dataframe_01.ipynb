{
  "nbformat": 4,
  "nbformat_minor": 0,
  "metadata": {
    "colab": {
      "name": "pd_dataframe_01.ipynb",
      "provenance": [],
      "authorship_tag": "ABX9TyPhum9vjihJqDvrTXcNAVST",
      "include_colab_link": true
    },
    "kernelspec": {
      "name": "python3",
      "display_name": "Python 3"
    },
    "language_info": {
      "name": "python"
    }
  },
  "cells": [
    {
      "cell_type": "markdown",
      "metadata": {
        "id": "view-in-github",
        "colab_type": "text"
      },
      "source": [
        "<a href=\"https://colab.research.google.com/github/wchwin/python_OnCode/blob/master/pd_dataframe_01.ipynb\" target=\"_parent\"><img src=\"https://colab.research.google.com/assets/colab-badge.svg\" alt=\"Open In Colab\"/></a>"
      ]
    },
    {
      "cell_type": "code",
      "metadata": {
        "id": "gCagEIChmuez"
      },
      "source": [
        "import pandas as pd\n",
        "dic = {\n",
        "    '國語':[100,98,85,92,79],\n",
        "    '數學':[95,93,99,88,89],\n",
        "    '社會':[94,100,98,79,77],\n",
        "    '自然':[100,95,93,99,75]\n",
        "}\n",
        "\n",
        "id = ['萬一','張三','李四','王武','陳六']"
      ],
      "execution_count": 17,
      "outputs": []
    },
    {
      "cell_type": "code",
      "metadata": {
        "colab": {
          "base_uri": "https://localhost:8080/"
        },
        "id": "GC0-pYlbr-_R",
        "outputId": "9b0756d3-d6ed-4170-e094-f40e0607a79a"
      },
      "source": [
        "# 測試並複習dict字典檔相關操作\n",
        "print(dic.keys())\n",
        "print(sorted(dic.keys()))\n",
        "print(sorted(dic.keys())[0])\n",
        "print(dic['國語'][0])\n",
        "print(dic.items())\n",
        "print(sorted(dic.items()))\n",
        "\n",
        "di = list(dic.items())\n",
        "for i in range(len(di)):\n",
        "  print(f\"{di[i][0]}平均分數：{sum(di[i][1])/len(di[i][1])}\")"
      ],
      "execution_count": 43,
      "outputs": [
        {
          "output_type": "stream",
          "name": "stdout",
          "text": [
            "dict_keys(['國語', '數學', '社會', '自然'])\n",
            "['國語', '數學', '社會', '自然']\n",
            "國語\n",
            "100\n",
            "dict_items([('國語', [100, 98, 85, 92, 79]), ('數學', [95, 93, 99, 88, 89]), ('社會', [94, 100, 98, 79, 77]), ('自然', [100, 95, 93, 99, 75])])\n",
            "[('國語', [100, 98, 85, 92, 79]), ('數學', [95, 93, 99, 88, 89]), ('社會', [94, 100, 98, 79, 77]), ('自然', [100, 95, 93, 99, 75])]\n",
            "國語平均分數：90.8\n",
            "數學平均分數：92.8\n",
            "社會平均分數：89.6\n",
            "自然平均分數：92.4\n"
          ]
        }
      ]
    },
    {
      "cell_type": "markdown",
      "metadata": {
        "id": "DAhbe_FBvqx1"
      },
      "source": [
        "# pandas Dataframe設定及重要的相關操作"
      ]
    },
    {
      "cell_type": "code",
      "metadata": {
        "id": "YvFSoScKn1kv"
      },
      "source": [
        "pdd = pd.DataFrame()\n",
        "print(pdd)"
      ],
      "execution_count": null,
      "outputs": []
    },
    {
      "cell_type": "code",
      "metadata": {
        "id": "N_v4WoIioHrA"
      },
      "source": [
        "pdd = pd.DataFrame(dic) # 未指定列索引名稱(預設會以數字編號)\n",
        "pdd"
      ],
      "execution_count": null,
      "outputs": []
    },
    {
      "cell_type": "code",
      "metadata": {
        "id": "SgU4B0M_ocu-"
      },
      "source": [
        "pdd = pd.DataFrame(dic, index=id) # 指定以id串列作為列索引名稱來源\n",
        "pdd"
      ],
      "execution_count": null,
      "outputs": []
    },
    {
      "cell_type": "code",
      "metadata": {
        "colab": {
          "base_uri": "https://localhost:8080/"
        },
        "id": "DKj5OBCdordR",
        "outputId": "f26cc105-86d9-463e-888e-f7fbe9538c9a"
      },
      "source": [
        "print(pdd.index[2],pdd['國語'][2])"
      ],
      "execution_count": 22,
      "outputs": [
        {
          "output_type": "stream",
          "name": "stdout",
          "text": [
            "李四 85\n"
          ]
        }
      ]
    },
    {
      "cell_type": "code",
      "metadata": {
        "colab": {
          "base_uri": "https://localhost:8080/"
        },
        "id": "kZfyRDiFqrNK",
        "outputId": "91934850-3d8a-4acc-fe28-a40bfd9ef3dd"
      },
      "source": [
        "print(pdd.index[1],pdd.columns[0],':',pdd[pdd.columns[0]][1])\n",
        "print(pdd.index[1],pdd.columns[0],':',di[0][1][1])\n",
        "print(pdd.index[0],'本次測驗各科成績：')\n",
        "for i in range(len(pdd.columns)):\n",
        "  print('    ',pdd.columns[i],':',pdd[pdd.columns[i]][0])\n",
        "\n",
        "print(pdd.loc['萬一'])  # 列出[萬一]那列的各欄位資料\n",
        "print(pdd.loc['萬一'][1:3])  # 列出[萬一]那列指定的欄位資料\n",
        "\n",
        "print(pdd['國語'])  # 列出欄位[國語]那欄的所有資料\n",
        "print(pdd['國語'][1:3])  # 列出欄位[國語]那欄指定的列資料"
      ],
      "execution_count": 42,
      "outputs": [
        {
          "output_type": "stream",
          "name": "stdout",
          "text": [
            "張三 國語 : 98\n",
            "張三 國語 : 98\n",
            "萬一 本次測驗各科成績：\n",
            "     國語 : 100\n",
            "     數學 : 95\n",
            "     社會 : 94\n",
            "     自然 : 100\n",
            "國語    100\n",
            "數學     95\n",
            "社會     94\n",
            "自然    100\n",
            "Name: 萬一, dtype: int64\n",
            "數學    95\n",
            "社會    94\n",
            "Name: 萬一, dtype: int64\n",
            "萬一    100\n",
            "張三     98\n",
            "李四     85\n",
            "王武     92\n",
            "陳六     79\n",
            "Name: 國語, dtype: int64\n",
            "張三    98\n",
            "李四    85\n",
            "Name: 國語, dtype: int64\n"
          ]
        }
      ]
    },
    {
      "cell_type": "code",
      "metadata": {
        "colab": {
          "base_uri": "https://localhost:8080/"
        },
        "id": "zIscDVXL1coW",
        "outputId": "cc768b73-cad0-4b45-9679-a8220e7e8191"
      },
      "source": [
        "for n in range(len(pdd.index)): # len(pdd.index)抓出共有幾筆資料(列數)\n",
        "  ts = 0\n",
        "  print(pdd.index[n],'本次測驗各科成績：')  # pdd.index(n)列出第n列的索引名稱\n",
        "  for i in range(len(pdd.columns)): # len(pdd.columns)抓出共有幾個欄位資料\n",
        "    print('    ',pdd.columns[i],':',pdd[pdd.columns[i]][n]) \n",
        "    # pdd.columns[i]列出第i欄位的欄位索引名稱\n",
        "    # pdd[pdd.columns[i]][n]抓出第i欄位索引名稱中，第n列的資料內容\n",
        "    ts += pdd[pdd.columns[i]][n]\n",
        "  print('     總分：',ts,'  另一種算總分：',sum(pdd.loc[pdd.index[n]]))\n",
        "  # pdd.loc[pdd.index[n]]說明：pdd.loc列出指定之列索引該列的各欄位資料\n",
        "  # 用pdd.index[n]來指定要使用的列索引(也就是指定要哪一列的資料)\n",
        "  # pdd.loc[pdd.index[n]][i:j]可用於指定列出哪一列中第i到j欄的資料即可\n",
        "  print('pdd.loc[pdd.index[n]][i:j]範例：', pdd.loc[pdd.index[n]][0:2])\n",
        "  print('     平均：',ts/len(pdd.columns))\n",
        "\n",
        "for i in range(len(pdd.columns)): # len(pdd.columns)抓出共有幾個欄位資料\n",
        "    print(pdd.columns[i],'平均分數:',sum(pdd[pdd.columns[i]])/len(pdd[pdd.columns[i]]))\n",
        "    # sum(pdd[pdd.columns[i]])將第i欄位的資料加總，len(pdd[pdd.columns[i]])算出第i欄位有幾筆資料"
      ],
      "execution_count": 39,
      "outputs": [
        {
          "output_type": "stream",
          "name": "stdout",
          "text": [
            "萬一 本次測驗各科成績：\n",
            "     國語 : 100\n",
            "     數學 : 95\n",
            "     社會 : 94\n",
            "     自然 : 100\n",
            "     總分： 389   另一種算總分： 389\n",
            "pdd.loc[pdd.index[n]][i:j]範例： 國語    100\n",
            "數學     95\n",
            "Name: 萬一, dtype: int64\n",
            "     平均： 97.25\n",
            "張三 本次測驗各科成績：\n",
            "     國語 : 98\n",
            "     數學 : 93\n",
            "     社會 : 100\n",
            "     自然 : 95\n",
            "     總分： 386   另一種算總分： 386\n",
            "pdd.loc[pdd.index[n]][i:j]範例： 國語    98\n",
            "數學    93\n",
            "Name: 張三, dtype: int64\n",
            "     平均： 96.5\n",
            "李四 本次測驗各科成績：\n",
            "     國語 : 85\n",
            "     數學 : 99\n",
            "     社會 : 98\n",
            "     自然 : 93\n",
            "     總分： 375   另一種算總分： 375\n",
            "pdd.loc[pdd.index[n]][i:j]範例： 國語    85\n",
            "數學    99\n",
            "Name: 李四, dtype: int64\n",
            "     平均： 93.75\n",
            "王武 本次測驗各科成績：\n",
            "     國語 : 92\n",
            "     數學 : 88\n",
            "     社會 : 79\n",
            "     自然 : 99\n",
            "     總分： 358   另一種算總分： 358\n",
            "pdd.loc[pdd.index[n]][i:j]範例： 國語    92\n",
            "數學    88\n",
            "Name: 王武, dtype: int64\n",
            "     平均： 89.5\n",
            "陳六 本次測驗各科成績：\n",
            "     國語 : 79\n",
            "     數學 : 89\n",
            "     社會 : 77\n",
            "     自然 : 75\n",
            "     總分： 320   另一種算總分： 320\n",
            "pdd.loc[pdd.index[n]][i:j]範例： 國語    79\n",
            "數學    89\n",
            "Name: 陳六, dtype: int64\n",
            "     平均： 80.0\n",
            "國語 平均分數: 90.8\n",
            "數學 平均分數: 92.8\n",
            "社會 平均分數: 89.6\n",
            "自然 平均分數: 92.4\n"
          ]
        }
      ]
    },
    {
      "cell_type": "code",
      "metadata": {
        "colab": {
          "base_uri": "https://localhost:8080/",
          "height": 112
        },
        "id": "DUu2zkaoeMUm",
        "outputId": "30b32235-ce85-4756-9524-9fe0c8be474d"
      },
      "source": [
        "pdd.head(2) # 列出資料前幾筆(未指定參數的話，預設列出前五筆資料)"
      ],
      "execution_count": 25,
      "outputs": [
        {
          "output_type": "execute_result",
          "data": {
            "text/html": [
              "<div>\n",
              "<style scoped>\n",
              "    .dataframe tbody tr th:only-of-type {\n",
              "        vertical-align: middle;\n",
              "    }\n",
              "\n",
              "    .dataframe tbody tr th {\n",
              "        vertical-align: top;\n",
              "    }\n",
              "\n",
              "    .dataframe thead th {\n",
              "        text-align: right;\n",
              "    }\n",
              "</style>\n",
              "<table border=\"1\" class=\"dataframe\">\n",
              "  <thead>\n",
              "    <tr style=\"text-align: right;\">\n",
              "      <th></th>\n",
              "      <th>國語</th>\n",
              "      <th>數學</th>\n",
              "      <th>社會</th>\n",
              "      <th>自然</th>\n",
              "    </tr>\n",
              "  </thead>\n",
              "  <tbody>\n",
              "    <tr>\n",
              "      <th>萬一</th>\n",
              "      <td>100</td>\n",
              "      <td>95</td>\n",
              "      <td>94</td>\n",
              "      <td>100</td>\n",
              "    </tr>\n",
              "    <tr>\n",
              "      <th>張三</th>\n",
              "      <td>98</td>\n",
              "      <td>93</td>\n",
              "      <td>100</td>\n",
              "      <td>95</td>\n",
              "    </tr>\n",
              "  </tbody>\n",
              "</table>\n",
              "</div>"
            ],
            "text/plain": [
              "     國語  數學   社會   自然\n",
              "萬一  100  95   94  100\n",
              "張三   98  93  100   95"
            ]
          },
          "metadata": {},
          "execution_count": 25
        }
      ]
    },
    {
      "cell_type": "code",
      "metadata": {
        "colab": {
          "base_uri": "https://localhost:8080/"
        },
        "id": "XOc8BS8pgBmg",
        "outputId": "2f0764e0-f496-430b-9db0-b202b411440c"
      },
      "source": [
        "print(pdd.head(2))"
      ],
      "execution_count": 26,
      "outputs": [
        {
          "output_type": "stream",
          "name": "stdout",
          "text": [
            "     國語  數學   社會   自然\n",
            "萬一  100  95   94  100\n",
            "張三   98  93  100   95\n"
          ]
        }
      ]
    }
  ]
}