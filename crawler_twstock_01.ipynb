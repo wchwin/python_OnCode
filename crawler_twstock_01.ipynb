{
  "nbformat": 4,
  "nbformat_minor": 0,
  "metadata": {
    "colab": {
      "name": "crawler_twstock_01.ipynb",
      "provenance": [],
      "collapsed_sections": [],
      "authorship_tag": "ABX9TyMOnlMSXHlT/cUhKDVS6SGF",
      "include_colab_link": true
    },
    "kernelspec": {
      "name": "python3",
      "display_name": "Python 3"
    }
  },
  "cells": [
    {
      "cell_type": "markdown",
      "metadata": {
        "id": "view-in-github",
        "colab_type": "text"
      },
      "source": [
        "<a href=\"https://colab.research.google.com/github/wchwin/python_OnCode/blob/master/crawler_twstock_01.ipynb\" target=\"_parent\"><img src=\"https://colab.research.google.com/assets/colab-badge.svg\" alt=\"Open In Colab\"/></a>"
      ]
    },
    {
      "cell_type": "markdown",
      "metadata": {
        "id": "mnUfBpsF0hbQ",
        "colab_type": "text"
      },
      "source": [
        "## 台灣股市爬蟲實作練習一"
      ]
    },
    {
      "cell_type": "code",
      "metadata": {
        "id": "thgZdcUq0f3z",
        "colab_type": "code",
        "colab": {}
      },
      "source": [
        "import requests\n",
        "import pandas as pd\n",
        "import numpy as np\n",
        "from io import StringIO\n",
        "\n",
        "# step2. 進入目標網站,爬取盤後資訊\n",
        "date = '20200602'\n",
        "r = requests.post('http://www.twse.com.tw/exchangeReport/MI_INDEX?response=csv&date=' + date + '&type=ALL')\n",
        "\n",
        "# step3. 篩選出個股盤後資訊\n",
        "str_list = []\n",
        "for i in r.text.split('\\n'):\n",
        "    if len(i.split('\",')) == 17 and i[0] != '=':\n",
        "        i = i.strip(\",\\r\\n\")\n",
        "        str_list.append(i)\n",
        "\n",
        "# step4. 印出選股資訊\n",
        "df = pd.read_csv(StringIO(\"\\n\".join(str_list)))\n",
        "pd.set_option('display.max_rows', None)\n",
        "df.head(50) #顯示前50筆資料"
      ],
      "execution_count": 0,
      "outputs": []
    },
    {
      "cell_type": "code",
      "metadata": {
        "id": "Dpp6nyqw5Zxd",
        "colab_type": "code",
        "colab": {
          "base_uri": "https://localhost:8080/",
          "height": 79
        },
        "outputId": "67569ddd-343a-4374-b08f-9abf85496c84"
      },
      "source": [
        "## 股票代號查詢\n",
        "index = list(df['證券代號']).index('9943')\n",
        "df.loc[index:index]\n",
        "## 股票名稱查詢\n",
        "index = list(df['證券名稱']).index('廣達')\n",
        "df.loc[index:index]"
      ],
      "execution_count": 6,
      "outputs": [
        {
          "output_type": "execute_result",
          "data": {
            "text/html": [
              "<div>\n",
              "<style scoped>\n",
              "    .dataframe tbody tr th:only-of-type {\n",
              "        vertical-align: middle;\n",
              "    }\n",
              "\n",
              "    .dataframe tbody tr th {\n",
              "        vertical-align: top;\n",
              "    }\n",
              "\n",
              "    .dataframe thead th {\n",
              "        text-align: right;\n",
              "    }\n",
              "</style>\n",
              "<table border=\"1\" class=\"dataframe\">\n",
              "  <thead>\n",
              "    <tr style=\"text-align: right;\">\n",
              "      <th></th>\n",
              "      <th>證券代號</th>\n",
              "      <th>證券名稱</th>\n",
              "      <th>成交股數</th>\n",
              "      <th>成交筆數</th>\n",
              "      <th>成交金額</th>\n",
              "      <th>開盤價</th>\n",
              "      <th>最高價</th>\n",
              "      <th>最低價</th>\n",
              "      <th>收盤價</th>\n",
              "      <th>漲跌(+/-)</th>\n",
              "      <th>漲跌價差</th>\n",
              "      <th>最後揭示買價</th>\n",
              "      <th>最後揭示買量</th>\n",
              "      <th>最後揭示賣價</th>\n",
              "      <th>最後揭示賣量</th>\n",
              "      <th>本益比</th>\n",
              "    </tr>\n",
              "  </thead>\n",
              "  <tbody>\n",
              "    <tr>\n",
              "      <th>310</th>\n",
              "      <td>2382</td>\n",
              "      <td>廣達</td>\n",
              "      <td>7,537,887</td>\n",
              "      <td>3,808</td>\n",
              "      <td>527,287,901</td>\n",
              "      <td>70.00</td>\n",
              "      <td>70.30</td>\n",
              "      <td>69.50</td>\n",
              "      <td>69.90</td>\n",
              "      <td></td>\n",
              "      <td>0.0</td>\n",
              "      <td>69.80</td>\n",
              "      <td>39</td>\n",
              "      <td>69.90</td>\n",
              "      <td>35</td>\n",
              "      <td>17.52</td>\n",
              "    </tr>\n",
              "  </tbody>\n",
              "</table>\n",
              "</div>"
            ],
            "text/plain": [
              "     證券代號 證券名稱       成交股數   成交筆數  ... 最後揭示買量 最後揭示賣價 最後揭示賣量    本益比\n",
              "310  2382   廣達  7,537,887  3,808  ...     39  69.90     35  17.52\n",
              "\n",
              "[1 rows x 16 columns]"
            ]
          },
          "metadata": {
            "tags": []
          },
          "execution_count": 6
        }
      ]
    },
    {
      "cell_type": "code",
      "metadata": {
        "id": "8ejy1MNy6HVo",
        "colab_type": "code",
        "colab": {}
      },
      "source": [
        "## 挑選本益比小於10的股票\n",
        "df[(pd.to_numeric(df['本益比'], errors='coerce') < 10) &\n",
        "   (pd.to_numeric(df['本益比'], errors='coerce') > 0)]"
      ],
      "execution_count": 0,
      "outputs": []
    },
    {
      "cell_type": "code",
      "metadata": {
        "id": "TI1VZDQ96YbM",
        "colab_type": "code",
        "colab": {}
      },
      "source": [
        "# 依照收盤價由低至高排序\n",
        "df['收盤價'] = df['收盤價'].apply(pd.to_numeric, errors='coerce') \n",
        "df.sort_values(by='收盤價')"
      ],
      "execution_count": 0,
      "outputs": []
    }
  ]
}