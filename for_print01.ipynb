{
  "nbformat": 4,
  "nbformat_minor": 0,
  "metadata": {
    "colab": {
      "name": "for_print01.ipynb",
      "provenance": [],
      "authorship_tag": "ABX9TyMITbH8XktlrZfY3fftRZB4",
      "include_colab_link": true
    },
    "kernelspec": {
      "name": "python3",
      "display_name": "Python 3"
    }
  },
  "cells": [
    {
      "cell_type": "markdown",
      "metadata": {
        "id": "view-in-github",
        "colab_type": "text"
      },
      "source": [
        "<a href=\"https://colab.research.google.com/github/wchwin/python_OnCode/blob/master/for_print01.ipynb\" target=\"_parent\"><img src=\"https://colab.research.google.com/assets/colab-badge.svg\" alt=\"Open In Colab\"/></a>"
      ]
    },
    {
      "cell_type": "code",
      "metadata": {
        "id": "V2mLA1GMFxp2",
        "colab_type": "code",
        "colab": {
          "base_uri": "https://localhost:8080/",
          "height": 139
        },
        "outputId": "0f43f84e-dedc-460f-abae-6fa156c12655"
      },
      "source": [
        "start1 = str(input(\"請輸入要使用的字母或符號：\"))\n",
        "raw = int(input(\"請輸入需要的行數：\"))\n",
        "for s in range(1,raw+1):\n",
        "    print(\" \"*(raw-s)+start1*(s*2-1)+\" \"*(raw-s))"
      ],
      "execution_count": 1,
      "outputs": [
        {
          "output_type": "stream",
          "text": [
            "請輸入要使用的字母或符號：*\n",
            "請輸入需要的行數：5\n",
            "    *    \n",
            "   ***   \n",
            "  *****  \n",
            " ******* \n",
            "*********\n"
          ],
          "name": "stdout"
        }
      ]
    }
  ]
}