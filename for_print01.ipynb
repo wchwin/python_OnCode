{
  "nbformat": 4,
  "nbformat_minor": 0,
  "metadata": {
    "colab": {
      "name": "for_print01.ipynb",
      "provenance": [],
      "authorship_tag": "ABX9TyPi/R06M/3SGVedAu3yOxfM",
      "include_colab_link": true
    },
    "kernelspec": {
      "name": "python3",
      "display_name": "Python 3"
    }
  },
  "cells": [
    {
      "cell_type": "markdown",
      "metadata": {
        "id": "view-in-github",
        "colab_type": "text"
      },
      "source": [
        "<a href=\"https://colab.research.google.com/github/wchwin/python_OnCode/blob/master/for_print01.ipynb\" target=\"_parent\"><img src=\"https://colab.research.google.com/assets/colab-badge.svg\" alt=\"Open In Colab\"/></a>"
      ]
    },
    {
      "cell_type": "code",
      "metadata": {
        "id": "V2mLA1GMFxp2",
        "colab_type": "code",
        "colab": {
          "base_uri": "https://localhost:8080/",
          "height": 139
        },
        "outputId": "2793c47d-14e4-48f7-aed1-7d33a593aac3"
      },
      "source": [
        "start1 = str(input(\"請輸入要使用的字母或符號：\"))\n",
        "raw = int(input(\"請輸入需要的行數：\"))\n",
        "for s in range(1,raw+1):\n",
        "    print(\" \"*(raw-s)+start1*(s*2-1)+\" \"*(raw-s))"
      ],
      "execution_count": 9,
      "outputs": [
        {
          "output_type": "stream",
          "text": [
            "請輸入要使用的字母或符號：A\n",
            "請輸入需要的行數：5\n",
            "    A    \n",
            "   AAA   \n",
            "  AAAAA  \n",
            " AAAAAAA \n",
            "AAAAAAAAA\n"
          ],
          "name": "stdout"
        }
      ]
    },
    {
      "cell_type": "code",
      "metadata": {
        "id": "MZGJ24BvGRsS",
        "colab_type": "code",
        "colab": {
          "base_uri": "https://localhost:8080/",
          "height": 104
        },
        "outputId": "213bf035-b73a-412b-af17-c444f50b974b"
      },
      "source": [
        "for s in range(1,raw+1):\n",
        "    print(start1*(s*2-1))"
      ],
      "execution_count": 10,
      "outputs": [
        {
          "output_type": "stream",
          "text": [
            "A\n",
            "AAA\n",
            "AAAAA\n",
            "AAAAAAA\n",
            "AAAAAAAAA\n"
          ],
          "name": "stdout"
        }
      ]
    },
    {
      "cell_type": "code",
      "metadata": {
        "id": "m899Z_07GYUA",
        "colab_type": "code",
        "colab": {
          "base_uri": "https://localhost:8080/",
          "height": 104
        },
        "outputId": "e4515632-2c86-4f0f-e631-c63e80abd41a"
      },
      "source": [
        "for s in range(1,raw+1):\n",
        "    print(\" \"*((raw-s)*2)+start1*(s*2-1))"
      ],
      "execution_count": 12,
      "outputs": [
        {
          "output_type": "stream",
          "text": [
            "        A\n",
            "      AAA\n",
            "    AAAAA\n",
            "  AAAAAAA\n",
            "AAAAAAAAA\n"
          ],
          "name": "stdout"
        }
      ]
    },
    {
      "cell_type": "code",
      "metadata": {
        "id": "G1CVxJf2GioO",
        "colab_type": "code",
        "colab": {
          "base_uri": "https://localhost:8080/",
          "height": 104
        },
        "outputId": "bee81817-95ac-436f-f6e3-8369b4a84ed1"
      },
      "source": [
        "for s in range(1,raw+1):\n",
        "    print(start1*(s*2-1)+\" \"*((raw-s)*2)+\" \"*((raw-s)*2)+start1*(s*2-1))"
      ],
      "execution_count": 13,
      "outputs": [
        {
          "output_type": "stream",
          "text": [
            "A                A\n",
            "AAA            AAA\n",
            "AAAAA        AAAAA\n",
            "AAAAAAA    AAAAAAA\n",
            "AAAAAAAAAAAAAAAAAA\n"
          ],
          "name": "stdout"
        }
      ]
    }
  ]
}