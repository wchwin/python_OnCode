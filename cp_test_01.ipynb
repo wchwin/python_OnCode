{
  "nbformat": 4,
  "nbformat_minor": 0,
  "metadata": {
    "colab": {
      "name": "cp_test_01.ipynb",
      "provenance": [],
      "authorship_tag": "ABX9TyMZ9KUZrc+eSV9x+b4l+ynA",
      "include_colab_link": true
    },
    "kernelspec": {
      "name": "python3",
      "display_name": "Python 3"
    }
  },
  "cells": [
    {
      "cell_type": "markdown",
      "metadata": {
        "id": "view-in-github",
        "colab_type": "text"
      },
      "source": [
        "<a href=\"https://colab.research.google.com/github/wchwin/python_OnCode/blob/master/cp_test_01.ipynb\" target=\"_parent\"><img src=\"https://colab.research.google.com/assets/colab-badge.svg\" alt=\"Open In Colab\"/></a>"
      ]
    },
    {
      "cell_type": "markdown",
      "metadata": {
        "id": "QB6bjWqZyLzx",
        "colab_type": "text"
      },
      "source": [
        "# 同樣結果不同語法效能差異"
      ]
    },
    {
      "cell_type": "markdown",
      "metadata": {
        "id": "YWmbFLniyaFJ",
        "colab_type": "text"
      },
      "source": [
        "### 目標：產生一組0~19串接起來的字串"
      ]
    },
    {
      "cell_type": "code",
      "metadata": {
        "id": "VPSkYVfmyBTF",
        "colab_type": "code",
        "colab": {
          "base_uri": "https://localhost:8080/",
          "height": 35
        },
        "outputId": "6b02cf82-7588-4b60-f41f-4b31dc823755"
      },
      "source": [
        "#效能差\n",
        "nums = \"\"\n",
        "for n in range(20):\n",
        "    nums += str(n)   # 慢且低效\n",
        "print(nums)"
      ],
      "execution_count": 1,
      "outputs": [
        {
          "output_type": "stream",
          "text": [
            "012345678910111213141516171819\n"
          ],
          "name": "stdout"
        }
      ]
    },
    {
      "cell_type": "code",
      "metadata": {
        "id": "USU7-lG4y_aO",
        "colab_type": "code",
        "colab": {
          "base_uri": "https://localhost:8080/",
          "height": 35
        },
        "outputId": "ab865c1f-008e-49f0-9b76-354a22f4e84c"
      },
      "source": [
        "nums = []\n",
        "for n in range(20):\n",
        "    nums.append(str(n))\n",
        "print(\"\".join(nums))  # 較高效"
      ],
      "execution_count": 2,
      "outputs": [
        {
          "output_type": "stream",
          "text": [
            "012345678910111213141516171819\n"
          ],
          "name": "stdout"
        }
      ]
    },
    {
      "cell_type": "code",
      "metadata": {
        "id": "lMqF6KeBzTAi",
        "colab_type": "code",
        "colab": {
          "base_uri": "https://localhost:8080/",
          "height": 52
        },
        "outputId": "5f8df575-1811-4aa3-8575-561bda092ba4"
      },
      "source": [
        "nums = [str(n) for n in range(20)]\n",
        "print(nums)\n",
        "print(\"\".join(nums))  #更佳"
      ],
      "execution_count": 6,
      "outputs": [
        {
          "output_type": "stream",
          "text": [
            "['0', '1', '2', '3', '4', '5', '6', '7', '8', '9', '10', '11', '12', '13', '14', '15', '16', '17', '18', '19']\n",
            "012345678910111213141516171819\n"
          ],
          "name": "stdout"
        }
      ]
    },
    {
      "cell_type": "code",
      "metadata": {
        "id": "4OvUbT7Dziy_",
        "colab_type": "code",
        "colab": {
          "base_uri": "https://localhost:8080/",
          "height": 52
        },
        "outputId": "c6c9cbea-c059-4a79-e0a7-d1224b427369"
      },
      "source": [
        "nums = map(str, range(20))\n",
        "print(nums)\n",
        "print(\"\".join(nums))  #最佳"
      ],
      "execution_count": 11,
      "outputs": [
        {
          "output_type": "stream",
          "text": [
            "<map object at 0x7f7a0fb74160>\n",
            "012345678910111213141516171819\n"
          ],
          "name": "stdout"
        }
      ]
    }
  ]
}