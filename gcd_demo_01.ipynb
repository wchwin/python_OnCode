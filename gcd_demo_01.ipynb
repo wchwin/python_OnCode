{
  "nbformat": 4,
  "nbformat_minor": 0,
  "metadata": {
    "colab": {
      "name": "gcd_demo_01.ipynb",
      "provenance": [],
      "authorship_tag": "ABX9TyOanzAiU3vczGJWd+bR833H",
      "include_colab_link": true
    },
    "kernelspec": {
      "name": "python3",
      "display_name": "Python 3"
    }
  },
  "cells": [
    {
      "cell_type": "markdown",
      "metadata": {
        "id": "view-in-github",
        "colab_type": "text"
      },
      "source": [
        "<a href=\"https://colab.research.google.com/github/wchwin/python_OnCode/blob/master/gcd_demo_01.ipynb\" target=\"_parent\"><img src=\"https://colab.research.google.com/assets/colab-badge.svg\" alt=\"Open In Colab\"/></a>"
      ]
    },
    {
      "cell_type": "markdown",
      "metadata": {
        "id": "OLJoDhranzY1",
        "colab_type": "text"
      },
      "source": [
        "## 求二數之最大公因數(gcd)"
      ]
    },
    {
      "cell_type": "code",
      "metadata": {
        "id": "g7C_qWJGnxgy",
        "colab_type": "code",
        "outputId": "3f563793-3ca9-4eb2-b57a-fec79acfc291",
        "colab": {
          "base_uri": "https://localhost:8080/",
          "height": 69
        }
      },
      "source": [
        "n1 = int(input(\"請輸入第一組數字：\"))\n",
        "n2 = int(input(\"請輸入第二組數字：\"))\n",
        "\n",
        "if n1 > n2:\n",
        "  cn1 = n1\n",
        "  cn2 = n2\n",
        "else:\n",
        "  cn1 = n2\n",
        "  cn2 = n1\n",
        "\n",
        "while cn2!=0 :\n",
        "  temp_n = cn1 % cn2\n",
        "  cn1 = cn2\n",
        "  cn2 = temp_n\n",
        "\n",
        "print(f\"{n1}和{n2}的最大公因數(gcd)為：{cn1}\")"
      ],
      "execution_count": 11,
      "outputs": [
        {
          "output_type": "stream",
          "text": [
            "請輸入第一組數字：9\n",
            "請輸入第二組數字：57\n",
            "9和57的最大公因數(gcd)為：3\n"
          ],
          "name": "stdout"
        }
      ]
    }
  ]
}