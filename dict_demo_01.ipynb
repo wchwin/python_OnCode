{
  "nbformat": 4,
  "nbformat_minor": 0,
  "metadata": {
    "colab": {
      "name": "dict_demo_01.ipynb",
      "provenance": [],
      "collapsed_sections": [],
      "authorship_tag": "ABX9TyPAxP5uCOe3CkF4/LjICNaa",
      "include_colab_link": true
    },
    "kernelspec": {
      "name": "python3",
      "display_name": "Python 3"
    }
  },
  "cells": [
    {
      "cell_type": "markdown",
      "metadata": {
        "id": "view-in-github",
        "colab_type": "text"
      },
      "source": [
        "<a href=\"https://colab.research.google.com/github/wchwin/python_OnCode/blob/master/dict_demo_01.ipynb\" target=\"_parent\"><img src=\"https://colab.research.google.com/assets/colab-badge.svg\" alt=\"Open In Colab\"/></a>"
      ]
    },
    {
      "cell_type": "markdown",
      "metadata": {
        "id": "E8FvxZIqNCgG",
        "colab_type": "text"
      },
      "source": [
        "# 字典(dict)相關概念及操作"
      ]
    },
    {
      "cell_type": "markdown",
      "metadata": {
        "id": "i_Uda4UpNuXa",
        "colab_type": "text"
      },
      "source": [
        "字典跟串列 (list) 的差別在於字典可自訂索引值，也就是 key ，串列則是從 開始的索引值，因此當資料用 key 當索引值比較直覺的時候，就能用字典取代串列當資料結構 (data structure) 。"
      ]
    },
    {
      "cell_type": "markdown",
      "metadata": {
        "id": "G5PSr1e2NOpq",
        "colab_type": "text"
      },
      "source": [
        "## 認識字典及相關概念"
      ]
    },
    {
      "cell_type": "code",
      "metadata": {
        "id": "NTErnOeZOMOk",
        "colab_type": "code",
        "colab": {
          "base_uri": "https://localhost:8080/",
          "height": 208
        },
        "outputId": "875de7b8-dc30-45bd-a89c-0d4a30915443"
      },
      "source": [
        "d = {}\n",
        "print(type(d))\n",
        "d = {'國文':97, '數學':85, '英文':89, '自然':99, '社會':94}\n",
        "print(len(d))\n",
        "print(d['國文'])\n",
        "print(d.keys())\n",
        "print(d.values())\n",
        "print(sum(d.values()))\n",
        "print(f\"本次成績  總分：{sum(d.values())}、平均分數：{sum(d.values())/len(d)}\")\n",
        "print(d.items())\n",
        "print(sorted(d.items(), key=lambda i:i[1], reverse=True))\n",
        "print(d['英文'])\n",
        "print('國文' in d)"
      ],
      "execution_count": 96,
      "outputs": [
        {
          "output_type": "stream",
          "text": [
            "<class 'dict'>\n",
            "5\n",
            "97\n",
            "dict_keys(['國文', '數學', '英文', '自然', '社會'])\n",
            "dict_values([97, 85, 89, 99, 94])\n",
            "464\n",
            "本次成績  總分：464、平均分數：92.8\n",
            "dict_items([('國文', 97), ('數學', 85), ('英文', 89), ('自然', 99), ('社會', 94)])\n",
            "[('自然', 99), ('國文', 97), ('社會', 94), ('英文', 89), ('數學', 85)]\n",
            "89\n",
            "True\n"
          ],
          "name": "stdout"
        }
      ]
    },
    {
      "cell_type": "code",
      "metadata": {
        "id": "cJjm-ne3XFOb",
        "colab_type": "code",
        "colab": {
          "base_uri": "https://localhost:8080/",
          "height": 52
        },
        "outputId": "75600e07-88f6-4f70-d67a-cb844b64cfb7"
      },
      "source": [
        "import operator\n",
        "ds = sorted(d.items(), key=operator.itemgetter(1))\n",
        "print(ds)\n",
        "print(ds[1])"
      ],
      "execution_count": 93,
      "outputs": [
        {
          "output_type": "stream",
          "text": [
            "[('數學', 85), ('英文', 89), ('社會', 94), ('國文', 97), ('自然', 99)]\n",
            "('英文', 89)\n"
          ],
          "name": "stdout"
        }
      ]
    },
    {
      "cell_type": "code",
      "metadata": {
        "id": "XqkajSObSZSd",
        "colab_type": "code",
        "colab": {
          "base_uri": "https://localhost:8080/",
          "height": 104
        },
        "outputId": "b242d7a3-4768-4704-a9f5-5c51f75e4ada"
      },
      "source": [
        "#for si in d.items(): #原始資料進行輸出\n",
        "for si in sorted(d.items(), key=lambda item:item[1], reverse=True): #排序後將資料輸出\n",
        "  print(f\"「{si[0]}」分數：{si[1]}\")"
      ],
      "execution_count": 94,
      "outputs": [
        {
          "output_type": "stream",
          "text": [
            "「自然」分數：99\n",
            "「國文」分數：97\n",
            "「社會」分數：94\n",
            "「英文」分數：89\n",
            "「數學」分數：85\n"
          ],
          "name": "stdout"
        }
      ]
    },
    {
      "cell_type": "code",
      "metadata": {
        "id": "FAcwz_Tu5r-A",
        "colab_type": "code",
        "colab": {
          "base_uri": "https://localhost:8080/",
          "height": 87
        },
        "outputId": "9ce67695-1951-415d-9f68-c99f916244ec"
      },
      "source": [
        "d['數學'] = 92  #若key值存在，則變更該科分數\n",
        "d['生物'] = 95  #若key值不存在，新增該科分數到字典中\n",
        "print(d)\n",
        "print(d.popitem())  #回傳任一的資料配對\n",
        "print(d.popitem())  #回傳任一的資料配對\n",
        "dc = d.copy()\n",
        "dc.clear()\n",
        "print(dc)"
      ],
      "execution_count": 106,
      "outputs": [
        {
          "output_type": "stream",
          "text": [
            "{'國文': 97, '數學': 92, '生物': 95}\n",
            "('生物', 95)\n",
            "('數學', 92)\n",
            "{}\n"
          ],
          "name": "stdout"
        }
      ]
    },
    {
      "cell_type": "code",
      "metadata": {
        "id": "w0cixCnb6Jgx",
        "colab_type": "code",
        "colab": {
          "base_uri": "https://localhost:8080/",
          "height": 451
        },
        "outputId": "da86bd9f-4ff8-419a-bd09-3ee5e3df2158"
      },
      "source": [
        "stu = [{'id':1,'國文': 87, '數學': 72, '英文': 69, '自然': 89, '社會': 74, '生物': 65},{'id':2,'國文': 97, '數學': 92, '英文': 89, '自然': 99, '社會': 94, '生物': 95},{'id':3,'國文': 57, '數學': 62, '英文': 49, '自然': 59, '社會': 74, '生物': 65}]\n",
        "print(stu[1])\n",
        "for stui in range(len(stu)):\n",
        "  print(stu[stui].items())\n",
        "  for s in stu[stui].items(): #原始資料進行輸出\n",
        "    if s[0] == 'id':\n",
        "      print(f\"學生座號：{s[1]}\")\n",
        "    else:\n",
        "      print(f\"「{s[0]}」分數：{s[1]}\")"
      ],
      "execution_count": 107,
      "outputs": [
        {
          "output_type": "stream",
          "text": [
            "{'id': 2, '國文': 97, '數學': 92, '英文': 89, '自然': 99, '社會': 94, '生物': 95}\n",
            "dict_items([('id', 1), ('國文', 87), ('數學', 72), ('英文', 69), ('自然', 89), ('社會', 74), ('生物', 65)])\n",
            "學生座號：1\n",
            "「國文」分數：87\n",
            "「數學」分數：72\n",
            "「英文」分數：69\n",
            "「自然」分數：89\n",
            "「社會」分數：74\n",
            "「生物」分數：65\n",
            "dict_items([('id', 2), ('國文', 97), ('數學', 92), ('英文', 89), ('自然', 99), ('社會', 94), ('生物', 95)])\n",
            "學生座號：2\n",
            "「國文」分數：97\n",
            "「數學」分數：92\n",
            "「英文」分數：89\n",
            "「自然」分數：99\n",
            "「社會」分數：94\n",
            "「生物」分數：95\n",
            "dict_items([('id', 3), ('國文', 57), ('數學', 62), ('英文', 49), ('自然', 59), ('社會', 74), ('生物', 65)])\n",
            "學生座號：3\n",
            "「國文」分數：57\n",
            "「數學」分數：62\n",
            "「英文」分數：49\n",
            "「自然」分數：59\n",
            "「社會」分數：74\n",
            "「生物」分數：65\n"
          ],
          "name": "stdout"
        }
      ]
    }
  ]
}