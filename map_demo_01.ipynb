{
  "nbformat": 4,
  "nbformat_minor": 0,
  "metadata": {
    "colab": {
      "name": "map_demo_01.ipynb",
      "provenance": [],
      "collapsed_sections": [],
      "authorship_tag": "ABX9TyPWKS9Q5IrBJtHPMnKJ60wP",
      "include_colab_link": true
    },
    "kernelspec": {
      "name": "python3",
      "display_name": "Python 3"
    }
  },
  "cells": [
    {
      "cell_type": "markdown",
      "metadata": {
        "id": "view-in-github",
        "colab_type": "text"
      },
      "source": [
        "<a href=\"https://colab.research.google.com/github/wchwin/python_OnCode/blob/master/map_demo_01.ipynb\" target=\"_parent\"><img src=\"https://colab.research.google.com/assets/colab-badge.svg\" alt=\"Open In Colab\"/></a>"
      ]
    },
    {
      "cell_type": "markdown",
      "metadata": {
        "id": "101UfunP1vCK",
        "colab_type": "text"
      },
      "source": [
        "# map()會根據提供的函數對指定的列表進行對應（映射）處理"
      ]
    },
    {
      "cell_type": "code",
      "metadata": {
        "id": "LMhtsUTT1jpH",
        "colab_type": "code",
        "colab": {
          "base_uri": "https://localhost:8080/",
          "height": 35
        },
        "outputId": "30a37336-d239-464a-e321-71baa1d596e1"
      },
      "source": [
        "def square(x) :            # 计算平方数 \n",
        "  return x ** 2\n",
        "\n",
        "print(list(map(square, [1,2,3,4,5])))   # 计算列表各个元素的平方"
      ],
      "execution_count": 6,
      "outputs": [
        {
          "output_type": "stream",
          "text": [
            "[1, 4, 9, 16, 25]\n"
          ],
          "name": "stdout"
        }
      ]
    },
    {
      "cell_type": "code",
      "metadata": {
        "id": "h1N7psHB3F2e",
        "colab_type": "code",
        "colab": {
          "base_uri": "https://localhost:8080/",
          "height": 35
        },
        "outputId": "ba1faa8a-13be-4771-fa41-b3e8a7037f75"
      },
      "source": [
        "mp = map(lambda x: x ** 2, [1, 2, 3, 4, 5])  # 使用 lambda 匿名函数\n",
        "print(list(mp))"
      ],
      "execution_count": 9,
      "outputs": [
        {
          "output_type": "stream",
          "text": [
            "[1, 4, 9, 16, 25]\n"
          ],
          "name": "stdout"
        }
      ]
    },
    {
      "cell_type": "code",
      "metadata": {
        "id": "_ZFbpfJl5qHF",
        "colab_type": "code",
        "colab": {
          "base_uri": "https://localhost:8080/",
          "height": 69
        },
        "outputId": "0971ebc5-1121-4cac-90d0-d85bff7d4a5e"
      },
      "source": [
        "print(range(1,6))\n",
        "print(set(range(1,6)))\n",
        "print(list(range(1,6)))"
      ],
      "execution_count": 17,
      "outputs": [
        {
          "output_type": "stream",
          "text": [
            "range(1, 6)\n",
            "{1, 2, 3, 4, 5}\n",
            "[1, 2, 3, 4, 5]\n"
          ],
          "name": "stdout"
        }
      ]
    },
    {
      "cell_type": "code",
      "metadata": {
        "id": "3rb_HmuV45RN",
        "colab_type": "code",
        "colab": {
          "base_uri": "https://localhost:8080/",
          "height": 35
        },
        "outputId": "2a9f0cab-23e6-4e4f-a6d5-7a97068b97cb"
      },
      "source": [
        "mp = map(lambda x: x ** 2, range(1,6))  # 使用 lambda 匿名函数\n",
        "print(list(mp))"
      ],
      "execution_count": 14,
      "outputs": [
        {
          "output_type": "stream",
          "text": [
            "[1, 4, 9, 16, 25]\n"
          ],
          "name": "stdout"
        }
      ]
    },
    {
      "cell_type": "code",
      "metadata": {
        "id": "eOA-obbC3x-D",
        "colab_type": "code",
        "colab": {
          "base_uri": "https://localhost:8080/",
          "height": 35
        },
        "outputId": "90f660d1-7db1-406f-c798-f7262955a9d3"
      },
      "source": [
        "#二組列表對應序列元素相加成為新的列表\n",
        "mp_list = list(map(lambda x, y: x + y, [1, 3, 5, 7, 9], [2, 4, 6, 8, 10]))\n",
        "print(mp_list)"
      ],
      "execution_count": 10,
      "outputs": [
        {
          "output_type": "stream",
          "text": [
            "[3, 7, 11, 15, 19]\n"
          ],
          "name": "stdout"
        }
      ]
    },
    {
      "cell_type": "code",
      "metadata": {
        "id": "ZO799sVm5ZUN",
        "colab_type": "code",
        "colab": {
          "base_uri": "https://localhost:8080/",
          "height": 35
        },
        "outputId": "53b7618b-34c9-4df8-cefc-8d2861e78d9e"
      },
      "source": [
        "#二組列表對應序列元素相加成為新的列表\n",
        "mp_list = list(map(lambda x, y: x + y, range(1,10,2), range(2,11,2)))\n",
        "print(mp_list)"
      ],
      "execution_count": 13,
      "outputs": [
        {
          "output_type": "stream",
          "text": [
            "[3, 7, 11, 15, 19]\n"
          ],
          "name": "stdout"
        }
      ]
    }
  ]
}