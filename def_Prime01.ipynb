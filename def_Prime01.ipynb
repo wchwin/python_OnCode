{
  "nbformat": 4,
  "nbformat_minor": 0,
  "metadata": {
    "colab": {
      "name": "def_Prime01.ipynb",
      "provenance": [],
      "authorship_tag": "ABX9TyMCZfkjooZGkptS+NMmD8Q6",
      "include_colab_link": true
    },
    "kernelspec": {
      "name": "python3",
      "display_name": "Python 3"
    }
  },
  "cells": [
    {
      "cell_type": "markdown",
      "metadata": {
        "id": "view-in-github",
        "colab_type": "text"
      },
      "source": [
        "<a href=\"https://colab.research.google.com/github/wchwin/python_OnCode/blob/master/def_Prime01.ipynb\" target=\"_parent\"><img src=\"https://colab.research.google.com/assets/colab-badge.svg\" alt=\"Open In Colab\"/></a>"
      ]
    },
    {
      "cell_type": "markdown",
      "metadata": {
        "id": "RL64vjG5ztc9",
        "colab_type": "text"
      },
      "source": [
        "# 函數練習-判斷是否為「質數」"
      ]
    },
    {
      "cell_type": "code",
      "metadata": {
        "id": "V0JKNc2uzspA",
        "colab_type": "code",
        "colab": {}
      },
      "source": [
        "def is_Prime(num):\n",
        "  if num < 2:\n",
        "    return False\n",
        "  elif num == 2:\n",
        "    return True\n",
        "  else:\n",
        "    for i in range(2, num):\n",
        "      if num % i == 0:\n",
        "        return False\n",
        "      #return True    ##注意最後這個return放在哪差很大喔~假如放在這，這函式就出錯了\n",
        "                      ##而且*****(不是語法錯誤，而是邏輯上的錯誤~~這更嚴重！)*****\n",
        "                      ##語法錯誤會呈現錯誤，邏輯上的錯誤程式不會呈現錯誤訊息，一定要由人發現，所以很容易忽略造成系統執行上的錯誤結果！\n",
        "    return True"
      ],
      "execution_count": 7,
      "outputs": []
    },
    {
      "cell_type": "code",
      "metadata": {
        "id": "fg3yrJmT1G1v",
        "colab_type": "code",
        "colab": {
          "base_uri": "https://localhost:8080/",
          "height": 35
        },
        "outputId": "bdb3bd97-c897-4f92-f872-a2c1489bddd1"
      },
      "source": [
        "print(is_Prime(277))"
      ],
      "execution_count": 13,
      "outputs": [
        {
          "output_type": "stream",
          "text": [
            "True\n"
          ],
          "name": "stdout"
        }
      ]
    },
    {
      "cell_type": "markdown",
      "metadata": {
        "id": "LUGAHFAd1X7F",
        "colab_type": "text"
      },
      "source": [
        "### 列出範圍區間內的質數"
      ]
    },
    {
      "cell_type": "code",
      "metadata": {
        "id": "R3VV38Qa1gMY",
        "colab_type": "code",
        "colab": {
          "base_uri": "https://localhost:8080/",
          "height": 295
        },
        "outputId": "89477fbf-ceab-44b3-e947-b29bd930e2b4"
      },
      "source": [
        "count = 0\n",
        "for ck_num in range(1,50):\n",
        "  if is_Prime(ck_num):\n",
        "    print(ck_num)\n",
        "    count += 1\n",
        "\n",
        "print(f\"共有{count}個質數！\")"
      ],
      "execution_count": 11,
      "outputs": [
        {
          "output_type": "stream",
          "text": [
            "2\n",
            "3\n",
            "5\n",
            "7\n",
            "11\n",
            "13\n",
            "17\n",
            "19\n",
            "23\n",
            "29\n",
            "31\n",
            "37\n",
            "41\n",
            "43\n",
            "47\n",
            "共有15個質數！\n"
          ],
          "name": "stdout"
        }
      ]
    }
  ]
}